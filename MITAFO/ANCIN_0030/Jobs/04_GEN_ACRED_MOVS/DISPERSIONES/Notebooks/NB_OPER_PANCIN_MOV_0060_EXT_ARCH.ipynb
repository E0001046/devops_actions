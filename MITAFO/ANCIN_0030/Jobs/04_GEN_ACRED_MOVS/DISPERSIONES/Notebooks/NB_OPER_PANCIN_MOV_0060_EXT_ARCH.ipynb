{
 "cells": [
  {
   "cell_type": "code",
   "execution_count": 0,
   "metadata": {
    "application/vnd.databricks.v1+cell": {
     "cellMetadata": {
      "byteLimit": 2048000,
      "rowLimit": 10000
     },
     "inputWidgets": {},
     "nuid": "69bf3750-5226-4188-9e99-79e1e216ab4f",
     "showTitle": false,
     "tableResultSettingsMap": {},
     "title": ""
    }
   },
   "outputs": [],
   "source": [
    "%load_ext autoreload\n",
    "%autoreload 2\n",
    "%reload_ext autoreload\n",
    "import sys\n",
    "import configparser\n",
    "import logging\n",
    "import inspect\n",
    "from pyspark.sql.functions import count, lit, current_timestamp\n",
    "from pyspark.sql import SparkSession\n",
    "from pyspark.sql.functions import col\n",
    "from pyspark.sql.types import IntegerType, StringType\n",
    "\n",
    "# Configuración del logger\n",
    "logging.getLogger().setLevel(logging.INFO)\n",
    "logger = logging.getLogger(\"py4j\")\n",
    "logger.setLevel(logging.WARN)\n",
    "logger = logging.getLogger(__name__)\n",
    "\n",
    "prod = True  # Para setear paths\n",
    "\n",
    "# Variables globales\n",
    "\n",
    "root_repo = \"/Workspace/Shared/MITAFO\"\n",
    "config_files = {\n",
    "    \"general\": f\"{root_repo}/CGRLS_0010/Conf/CF_GRLS_PROCESS.py.properties\",\n",
    "    \"connection\": f\"{root_repo}/CGRLS_0010/Conf/CF_GRLS_CONN.py.properties\",\n",
    "    \"process\": f\"{root_repo}/ANCIN_0030/Jobs/04_GEN_ACRED_MOVS/DISPERSIONES/Conf/CF_PART_PROC.py.properties\"\n",
    "    if prod\n",
    "    else \"/Workspace/Repos/mronboye@emeal.nttdata.com/QueryConfigLab.ide/\"\n",
    "    \"MITAFO/ANCIN_0030/Jobs/04_GEN_ACRED_MOVS/\"\n",
    "    \"DISPERSIONES/Conf/\"\n",
    "    \"CF_PART_PROC.py.properties\",\n",
    "}\n",
    "\n",
    "notebook_name = (\n",
    "    dbutils.notebook.entry_point.getDbutils()\n",
    "    .notebook()\n",
    "    .getContext()\n",
    "    .notebookPath()\n",
    "    .get()\n",
    ")\n",
    "message = \"NB Error: \" + notebook_name\n",
    "source = \"ETL\"\n",
    "\n",
    "process_name = \"root\"\n",
    "\n",
    "# Carga de funciones externas\n",
    "sys.path.append(f\"{root_repo}/CGRLS_0010/Notebooks\")\n",
    "try:\n",
    "    from NB_GRLS_DML_FUNCTIONS import *\n",
    "    from NB_GRLS_SIMPLE_FUNCTIONS import *\n",
    "except Exception as e:\n",
    "    logger.error(\"Error al cargar funciones externas: %s\", e)\n",
    "\n",
    "global_params = {}\n",
    "global_confs = {}  # Diccionario para almacenar las keys globales\n",
    "\n",
    "\n",
    "def input_values() -> dict:\n",
    "    \"\"\"Obtiene los valores de los widgets de entrada y los almacena en un diccionario global.\"\"\"\n",
    "\n",
    "    widget_defaults = {\n",
    "        \"SR_FOLIO_REL\": \"\",\n",
    "        \"SR_PROCESO\": \"\",\n",
    "        \"SR_FECHA_LIQ\": \"\",\n",
    "        \"SR_TIPO_MOV\": \"\",\n",
    "        \"SR_REPROCESO\": \"\",\n",
    "        \"SR_SUBPROCESO\": \"\",\n",
    "        \"SR_USUARIO\": \"\",\n",
    "        \"SR_INSTANCIA_PROCESO\": \"\",\n",
    "        \"SR_ORIGEN_ARC\": \"\",\n",
    "        \"SR_ID_SNAPSHOT\": \"\",\n",
    "        \"SR_FECHA_ACC\": \"\",\n",
    "        \"SR_FOLIO\": \"\",\n",
    "        \"SR_SUBETAPA\": \"\",\n",
    "        \"SR_FACTOR\": \"\",\n",
    "        \"SR_ETAPA\": \"\",\n",
    "        \"CX_CRE_ESQUEMA\": \"CIERREN_ETL\",\n",
    "        \"TL_CRE_DISPERSION\": \"TTSISGRAL_ETL_DISPERSION\",\n",
    "    }\n",
    "\n",
    "    # Crear los widgets en minúsculas\n",
    "    for key, default_value in widget_defaults.items():\n",
    "        dbutils.widgets.text(key.lower(), default_value)\n",
    "\n",
    "    # Actualizar el diccionario global en mayúsculas para el resto del notebook\n",
    "    global_params.update(\n",
    "        {key.upper(): dbutils.widgets.get(key.lower()).strip() for key in widget_defaults}\n",
    "    )\n",
    "\n",
    "    if any(not value for value in global_params.values()):\n",
    "        logger.error(\"Valores de entrada vacíos o nulos\")\n",
    "        global_params[\"status\"] = \"0\"\n",
    "    else:\n",
    "        global_params[\"status\"] = \"1\"\n",
    "\n",
    "    return global_params\n",
    "\n",
    "\n",
    "def conf_process_values(arg_config_file: str, arg_process_name: str) -> tuple:\n",
    "    \"\"\"Obtiene los valores de configuración del proceso y los almacena en un diccionario global.\"\"\"\n",
    "    keys = [\n",
    "        \"sql_conf_file\",\n",
    "        \"debug\",\n",
    "        \"conn_schema_001\",\n",
    "        \"conn_schema_002\",\n",
    "        \"table_001\",\n",
    "        \"table_002\",\n",
    "        \"table_003\",\n",
    "        \"table_004\",\n",
    "        \"table_005\",\n",
    "        \"table_006\",\n",
    "        \"table_007\",\n",
    "        \"table_008\",\n",
    "        \"table_009\",\n",
    "        \"table_010\",\n",
    "        \"table_011\",\n",
    "        \"table_012\",\n",
    "        \"table_013\",\n",
    "        \"external_location\",\n",
    "        \"err_repo_path\",\n",
    "        \"output_file_name_001\",\n",
    "        \"sep\",\n",
    "        \"header\",\n",
    "        \"catalog_name\",\n",
    "        \"schema_name\",\n",
    "    ]\n",
    "\n",
    "    try:\n",
    "        config = configparser.ConfigParser()\n",
    "        config.read(arg_config_file)\n",
    "        result = {key: config.get(arg_process_name, key) for key in keys}\n",
    "        result[\"status\"] = \"1\"\n",
    "        # Almacenar los valores en el diccionario global\n",
    "        global_confs.update(result)\n",
    "    except (ValueError, IOError) as error:\n",
    "        logger.error(\"Error en la función %s: %s\", inspect.stack()[0][3], error)\n",
    "        result = {key: \"0\" for key in keys}\n",
    "        result[\"status\"] = \"0\"\n",
    "        # Almacenar los valores en el diccionario global\n",
    "        global_confs.update(result)\n",
    "\n",
    "    return tuple(result.values())\n",
    "\n",
    "\n",
    "def fix_created_file(file_name):\n",
    "    try:\n",
    "        file_name_tmp = dbutils.fs.ls(file_name + \"_TEMP\")\n",
    "        file_name_new = list(filter(lambda x: x[0].endswith(\"csv\"), file_name_tmp))\n",
    "        dbutils.fs.mv(file_name_new[0][0], file_name)\n",
    "        dbutils.fs.rm(file_name + \"_TEMP\", recurse=True)\n",
    "    except Exception as e:\n",
    "        logger.error(\"Function: \" + str(inspect.stack()[0][3]))\n",
    "        logger.error(\"An error was raised: \" + str(e))\n",
    "        return \"0\"\n",
    "    return \"1\"\n",
    "\n",
    "# Configuración del manejador global de excepciones\n",
    "def global_exception_handler(exc_type, exc_value, exc_traceback):\n",
    "    if issubclass(exc_type, KeyboardInterrupt):\n",
    "        # Permitir que KeyboardInterrupt se maneje normalmente\n",
    "        sys.__excepthook__(exc_type, exc_value, exc_traceback)\n",
    "        return\n",
    "\n",
    "    message = f\"Uncaught exception: {exc_value}\"\n",
    "    source = \"ETL\"\n",
    "    input_parameters = dbutils.widgets.getAll().items()\n",
    "    # Registro del error y notificación\n",
    "    logger.error(\"Please review log messages\")\n",
    "    notification_raised(webhook_url, -1, message, source, input_parameters)\n",
    "    raise Exception(\"An error raised\")\n",
    "\n",
    "# Asigna el manejador de excepciones al hook global de sys\n",
    "sys.excepthook = global_exception_handler\n",
    "\n",
    "\n",
    "if __name__ == \"__main__\":\n",
    "    # Inicialización de variables\n",
    "    input_parameters = dbutils.widgets.getAll().items()\n",
    "\n",
    "    webhook_url, channel, failed_task = conf_init_values(\n",
    "        config_files[\"general\"], process_name, \"TEMP_PROCESS\"\n",
    "    )\n",
    "\n",
    "    input_values()\n",
    "    if global_params[\"status\"] == \"0\":\n",
    "        logger.error(\"Revisar mensajes en los logs\")\n",
    "        notification_raised(webhook_url, -1, message, source, input_parameters)\n",
    "        raise Exception(\"Error en los valores de entrada, revisar logs\")\n",
    "\n",
    "    if failed_task == \"0\":\n",
    "        logger.error(\"Please review log MESSAGEs\")\n",
    "        notification_raised(webhook_url, -1, message, source, input_parameters)\n",
    "        raise Exception(\"Process ends\")\n",
    "\n",
    "    process_name = \"root\"\n",
    "    conf_values = conf_process_values(config_files[\"process\"], process_name)\n",
    "    if conf_values[-1] == \"0\":\n",
    "        logger.error(\"Revisar mensajes en los logs\")\n",
    "        notification_raised(webhook_url, -1, message, source, input_parameters)\n",
    "        raise Exception(\"Error en la configuración del proceso, revisar logs\")\n",
    "\n",
    "    conn_name_ora = \"jdbc_oracle\"\n",
    "    (\n",
    "        conn_options,\n",
    "        conn_additional_options,\n",
    "        conn_user,\n",
    "        conn_key,\n",
    "        conn_url,\n",
    "        scope,\n",
    "        failed_task,\n",
    "    ) = conf_conn_values(config_files[\"connection\"], conn_name_ora)\n",
    "    if failed_task == \"0\":\n",
    "        logger.error(\"Revisar mensajes en los logs\")\n",
    "        notification_raised(webhook_url, -1, message, source, input_parameters)\n",
    "        raise Exception(\"Error en la configuración de la conexión, revisar logs\")\n",
    "\n",
    "    if prod:\n",
    "        sql_conf_file = f\"{root_repo}/ANCIN_0030/Jobs/04_GEN_ACRED_MOVS/DISPERSIONES/JSON/{conf_values[0]}\"\n",
    "    else:\n",
    "        sql_conf_file = f\"/Workspace/Repos/mronboye@emeal.nttdata.com/QueryConfigLab.ide/MITAFO/ANCIN_0030/Jobs/04_GEN_ACRED_MOVS/DISPERSIONES/JSON/{conf_values[0]}\"\n",
    "    # Seteamos el valor de debug\n",
    "    debug = conf_values[1]\n",
    "    debug = debug.lower() == 'true'"
   ]
  },
  {
   "cell_type": "code",
   "execution_count": 0,
   "metadata": {
    "application/vnd.databricks.v1+cell": {
     "cellMetadata": {
      "byteLimit": 2048000,
      "rowLimit": 10000
     },
     "collapsed": true,
     "inputWidgets": {},
     "nuid": "22e8c571-169e-4669-984b-2e8ec639dacd",
     "showTitle": false,
     "tableResultSettingsMap": {},
     "title": ""
    }
   },
   "outputs": [],
   "source": [
    "with open(sql_conf_file) as f:\n",
    "    file_config_sql = json.load(f)\n",
    "\n",
    "conf_values = [\n",
    "    (fields[\"step_id\"], \"\\n\".join(fields[\"value\"]))\n",
    "    for line, value in file_config_sql.items()\n",
    "    if line == \"steps\"\n",
    "    for fields in value\n",
    "]"
   ]
  },
  {
   "cell_type": "markdown",
   "metadata": {
    "application/vnd.databricks.v1+cell": {
     "cellMetadata": {
      "byteLimit": 2048000,
      "rowLimit": 10000
     },
     "inputWidgets": {},
     "nuid": "04e4d72d-7276-4256-8225-4c09365bbe2e",
     "showTitle": false,
     "tableResultSettingsMap": {},
     "title": ""
    }
   },
   "source": [
    "### Hacemos un query que tiene multiples extracciones y transformaciones en OCI"
   ]
  },
  {
   "cell_type": "code",
   "execution_count": 0,
   "metadata": {
    "application/vnd.databricks.v1+cell": {
     "cellMetadata": {
      "byteLimit": 2048000,
      "rowLimit": 10000
     },
     "inputWidgets": {},
     "nuid": "173c0376-4d49-4124-8e17-6c1fc648bd83",
     "showTitle": false,
     "tableResultSettingsMap": {},
     "title": ""
    }
   },
   "outputs": [],
   "source": [
    "query_statement = \"011\"\n",
    "table_name_001 = f\"{global_confs['conn_schema_001']}.{global_confs['table_002']}\" # CIERREN_ETL.TTSISGRAL_ETL_MOVIMIENTOS\n",
    "table_name_002 = f\"{global_confs['conn_schema_001']}.{global_confs['table_012']}\" # CIERREN_ETL.TTSISGRAL_ETL_VAL_IDENT_CTE\n",
    "table_name_003 = f\"{global_confs['conn_schema_002']}.{global_confs['table_009']}\" # CIERREN_ETL.TCAFOGRAL_VALOR_ACCION\n",
    "table_name_004 = f\"{global_confs['conn_schema_002']}.{global_confs['table_013']}\" # CIERREN_ETL.TCCRXGRAL_CAT_CATALOGO\n",
    "\n",
    "params = [\n",
    "    table_name_001,\n",
    "    table_name_002,\n",
    "    table_name_003,\n",
    "    table_name_004,\n",
    "    global_params[\"SR_FOLIO\"],\n",
    "]\n",
    "\n",
    "statement, failed_task = getting_statement(conf_values, query_statement, params)\n",
    "\n",
    "if failed_task == \"0\":\n",
    "    logger.error(\"No value %s found\", statement)\n",
    "    logger.error(\"Please review log messages\")\n",
    "    notification_raised(webhook_url, -1, message, source, global_params)\n",
    "    raise Exception(\"Process ends\")\n",
    "\n",
    "# Ensure the statement is correctly formatted with the parameters\n",
    "formatted_statement = statement.format(*params)\n",
    "\n",
    "df, failed_task = query_table(\n",
    "    conn_name_ora, spark, formatted_statement, conn_options, conn_user, conn_key\n",
    ")\n",
    "\n",
    "# Inserto DF_100_CRE_ETL_DISPERSION al cache\n",
    "df.cache()\n",
    "\n",
    "if failed_task == \"0\":\n",
    "    logger.error(\"Please review log messages\")\n",
    "    notification_raised(webhook_url, -1, message, source, input_parameters)\n",
    "    raise Exception(\"An error raised\")\n",
    "\n",
    "if debug:\n",
    "    display(df)"
   ]
  },
  {
   "cell_type": "markdown",
   "metadata": {
    "application/vnd.databricks.v1+cell": {
     "cellMetadata": {
      "byteLimit": 2048000,
      "rowLimit": 10000
     },
     "inputWidgets": {},
     "nuid": "e2b3cb2a-5ebe-4d3f-b09e-0b713a0cfd03",
     "showTitle": false,
     "tableResultSettingsMap": {},
     "title": ""
    }
   },
   "source": [
    "### Generamos un .csv"
   ]
  },
  {
   "cell_type": "code",
   "execution_count": 0,
   "metadata": {
    "application/vnd.databricks.v1+cell": {
     "cellMetadata": {
      "byteLimit": 2048000,
      "rowLimit": 10000
     },
     "inputWidgets": {},
     "nuid": "9ae7749c-55c9-42c2-ab6e-18d240c85e3c",
     "showTitle": false,
     "tableResultSettingsMap": {},
     "title": ""
    }
   },
   "outputs": [],
   "source": [
    "from datetime import datetime\n",
    "import pytz\n",
    "\n",
    "header = True\n",
    "\n",
    "full_file_name = (\n",
    "    global_confs[\"external_location\"]\n",
    "    + global_confs[\"err_repo_path\"]\n",
    "    + \"/\"\n",
    "    + global_params[\"SR_FOLIO\"]\n",
    "    + \"_\"\n",
    "    + global_confs[\"output_file_name_001\"]\n",
    ")\n",
    "\n",
    "try:\n",
    "    # Guarda temporalmente el DataFrame en formato CSV\n",
    "    df.write.format(\"csv\").mode(\"overwrite\").option(\"header\", header).save(\n",
    "        full_file_name + \"_TEMP\"\n",
    "    )\n",
    "\n",
    "    # Lee el archivo temporal en un nuevo DataFrame\n",
    "    dataframe = spark.read.option(\"header\", header).csv(full_file_name + \"_TEMP\")\n",
    "\n",
    "    # Guarda el DataFrame en un solo archivo CSV\n",
    "    dataframe.coalesce(1).write.format(\"csv\").mode(\"overwrite\").option(\n",
    "        \"header\", header\n",
    "    ).save(full_file_name)\n",
    "except Exception as e:\n",
    "    # Registra el error en el logger\n",
    "    logger.error(\"An error was raised: \" + str(e))\n",
    "    # Envía una notificación de error\n",
    "    notification_raised(webhook_url, -1, message, source, input_parameters)\n",
    "    # Lanza una excepción para finalizar el proceso\n",
    "    raise Exception(\"Process ends\")"
   ]
  },
  {
   "cell_type": "code",
   "execution_count": 0,
   "metadata": {
    "application/vnd.databricks.v1+cell": {
     "cellMetadata": {
      "byteLimit": 2048000,
      "rowLimit": 10000
     },
     "inputWidgets": {},
     "nuid": "b2d7203d-c779-4cb7-aa57-69914585c721",
     "showTitle": false,
     "tableResultSettingsMap": {},
     "title": ""
    }
   },
   "outputs": [],
   "source": [
    "try:\n",
    "    # Lee el archivo CSV en un DataFrame, con la opción de encabezado según la variable 'header'\n",
    "    dfFile = spark.read.option('header', header).csv(full_file_name)\n",
    "    \n",
    "    # Escribe el DataFrame en un solo archivo CSV, con la opción de encabezado según la variable 'header'\n",
    "    dfFile.coalesce(1).write.format('csv').mode('overwrite').option('header', header).save(full_file_name)\n",
    "except Exception as e:\n",
    "    # Registra el error en el logger\n",
    "    logger.error(\"An error was raised: \" + str(e))\n",
    "    \n",
    "    # Envía una notificación de error\n",
    "    notification_raised(webhook_url, -1, message, source, input_parameters)\n",
    "    \n",
    "    # Lanza una excepción para finalizar el proceso\n",
    "    raise Exception(\"Process ends\")"
   ]
  },
  {
   "cell_type": "code",
   "execution_count": 0,
   "metadata": {
    "application/vnd.databricks.v1+cell": {
     "cellMetadata": {
      "byteLimit": 2048000,
      "rowLimit": 10000
     },
     "inputWidgets": {},
     "nuid": "e77ddc1d-ae13-43e9-b409-c67eaa29d800",
     "showTitle": false,
     "tableResultSettingsMap": {},
     "title": ""
    }
   },
   "outputs": [],
   "source": [
    "try:\n",
    "    # Define el nombre del archivo temporal auxiliar\n",
    "    full_file_name_aux = full_file_name + '_TEMP'\n",
    "    \n",
    "    # Elimina el archivo temporal auxiliar si existe\n",
    "    dbutils.fs.rm(full_file_name_aux, recurse=True)\n",
    "\n",
    "    # Lista los archivos en el directorio del archivo original\n",
    "    file_name_tmp = dbutils.fs.ls(full_file_name)\n",
    "    \n",
    "    # Filtra la lista de archivos para encontrar el archivo CSV\n",
    "    file_name_new = list(filter(lambda x: x[0].endswith('csv'), file_name_tmp))\n",
    "\n",
    "    # Copia el archivo CSV encontrado al archivo temporal auxiliar\n",
    "    dbutils.fs.cp(file_name_new[0][0], full_file_name_aux)\n",
    "    \n",
    "    # Elimina el archivo original\n",
    "    dbutils.fs.rm(full_file_name, recurse=True)\n",
    "    \n",
    "    # Copia el archivo temporal auxiliar al nombre del archivo original\n",
    "    dbutils.fs.cp(full_file_name_aux, full_file_name)\n",
    "    \n",
    "    # Elimina el archivo temporal auxiliar\n",
    "    dbutils.fs.rm(full_file_name_aux, recurse=True)\n",
    "except Exception as e:\n",
    "    # Registra el error en el logger\n",
    "    logger.error(\"An error was raised: \" + str(e))\n",
    "    \n",
    "    # Envía una notificación de error\n",
    "    notification_raised(webhook_url, -1, message, source, input_parameters)\n",
    "    \n",
    "    # Lanza una excepción para finalizar el proceso\n",
    "    raise Exception(\"Process ends\")"
   ]
  },
  {
   "cell_type": "code",
   "execution_count": 0,
   "metadata": {
    "application/vnd.databricks.v1+cell": {
     "cellMetadata": {
      "byteLimit": 2048000,
      "rowLimit": 10000
     },
     "inputWidgets": {},
     "nuid": "cf2fcfc2-da6a-4707-a997-eb459273d972",
     "showTitle": false,
     "tableResultSettingsMap": {},
     "title": ""
    }
   },
   "outputs": [],
   "source": [
    "# # Copia el archivo generado al volumen asignado para poder descargarlo en el equipo local\n",
    "# dbutils.fs.cp(\n",
    "#    f\"abfss://nci-repository@datalakedev1udbvf.dfs.core.windows.net/RCDI/OUT/{global_params['SR_FOLIO']}_INSUFICIENCIA.csv\", \n",
    "#    f\"/Volumes/dbx_mit_dev_1udbvf_workspace/default/doimss_carga_archivo/{global_params['SR_FOLIO']}_INSUFICIENCIA.csv\"\n",
    "# )"
   ]
  },
  {
   "cell_type": "code",
   "execution_count": 0,
   "metadata": {
    "application/vnd.databricks.v1+cell": {
     "cellMetadata": {
      "byteLimit": 2048000,
      "rowLimit": 10000
     },
     "inputWidgets": {},
     "nuid": "27bea07a-65e8-4c16-a4d1-3f6f6d518cdd",
     "showTitle": false,
     "tableResultSettingsMap": {},
     "title": ""
    }
   },
   "outputs": [],
   "source": [
    "from pyspark.sql import DataFrame\n",
    "\n",
    "# Clear cache\n",
    "spark.catalog.clearCache()\n",
    "\n",
    "# Unpersist and delete all DataFrames\n",
    "for df_name in list(globals()):\n",
    "    if isinstance(globals()[df_name], DataFrame):\n",
    "        globals()[df_name].unpersist()\n",
    "        del globals()[df_name]"
   ]
  },
  {
   "cell_type": "code",
   "execution_count": 0,
   "metadata": {
    "application/vnd.databricks.v1+cell": {
     "cellMetadata": {},
     "inputWidgets": {},
     "nuid": "ffa54c4c-dfab-4582-89df-399cc33992db",
     "showTitle": false,
     "tableResultSettingsMap": {},
     "title": ""
    }
   },
   "outputs": [],
   "source": [
    "# Liberar la caché del DataFrame si se usó cache\n",
    "df.unpersist()\n",
    "\n",
    "# Eliminar DataFrames para liberar memoria\n",
    "del df\n",
    "\n",
    "# Recolector de basura para liberar recursos inmediatamente\n",
    "import gc\n",
    "gc.collect()"
   ]
  }
 ],
 "metadata": {
  "application/vnd.databricks.v1+notebook": {
   "dashboards": [],
   "environmentMetadata": null,
   "language": "python",
   "notebookMetadata": {
    "pythonIndentUnit": 4,
    "widgetLayout": []
   },
   "notebookName": "NB_OPER_PANCIN_MOV_0060_EXT_ARCH",
   "widgets": {
    "cx_cre_esquema": {
     "currentValue": "CIERREN_ETL",
     "nuid": "ed5a609e-bef7-4fd6-a5e1-e4be50b7f691",
     "typedWidgetInfo": {
      "autoCreated": false,
      "defaultValue": "CIERREN_ETL",
      "label": null,
      "name": "cx_cre_esquema",
      "options": {
       "widgetDisplayType": "Text",
       "validationRegex": null
      },
      "parameterDataType": "String"
     },
     "widgetInfo": {
      "widgetType": "text",
      "defaultValue": "CIERREN_ETL",
      "label": null,
      "name": "cx_cre_esquema",
      "options": {
       "widgetType": "text",
       "autoCreated": null,
       "validationRegex": null
      }
     }
    },
    "sr_etapa": {
     "currentValue": "1",
     "nuid": "6a60da6b-43fa-4804-af47-70d5cc396bd3",
     "typedWidgetInfo": {
      "autoCreated": false,
      "defaultValue": "",
      "label": null,
      "name": "sr_etapa",
      "options": {
       "widgetDisplayType": "Text",
       "validationRegex": null
      },
      "parameterDataType": "String"
     },
     "widgetInfo": {
      "widgetType": "text",
      "defaultValue": "",
      "label": null,
      "name": "sr_etapa",
      "options": {
       "widgetType": "text",
       "autoCreated": null,
       "validationRegex": null
      }
     }
    },
    "sr_factor": {
     "currentValue": "1",
     "nuid": "50c4a88f-ccd8-4e54-ad7e-0fb6602894c8",
     "typedWidgetInfo": {
      "autoCreated": false,
      "defaultValue": "",
      "label": null,
      "name": "sr_factor",
      "options": {
       "widgetDisplayType": "Text",
       "validationRegex": null
      },
      "parameterDataType": "String"
     },
     "widgetInfo": {
      "widgetType": "text",
      "defaultValue": "",
      "label": null,
      "name": "sr_factor",
      "options": {
       "widgetType": "text",
       "autoCreated": null,
       "validationRegex": null
      }
     }
    },
    "sr_fec_acc": {
     "currentValue": " 2024-10-21",
     "nuid": "4867f57f-04d3-4eee-bb86-1ff67f25d88b",
     "typedWidgetInfo": {
      "autoCreated": false,
      "defaultValue": "",
      "label": null,
      "name": "sr_fec_acc",
      "options": {
       "widgetDisplayType": "Text",
       "validationRegex": null
      },
      "parameterDataType": "String"
     },
     "widgetInfo": {
      "widgetType": "text",
      "defaultValue": "",
      "label": null,
      "name": "sr_fec_acc",
      "options": {
       "widgetType": "text",
       "autoCreated": null,
       "validationRegex": null
      }
     }
    },
    "sr_fecha_acc": {
     "currentValue": " 2024-10-21",
     "nuid": "631a7ea0-4999-41b5-823c-0f87beb5c15e",
     "typedWidgetInfo": {
      "autoCreated": false,
      "defaultValue": "",
      "label": null,
      "name": "sr_fecha_acc",
      "options": {
       "widgetDisplayType": "Text",
       "validationRegex": null
      },
      "parameterDataType": "String"
     },
     "widgetInfo": {
      "widgetType": "text",
      "defaultValue": "",
      "label": null,
      "name": "sr_fecha_acc",
      "options": {
       "widgetType": "text",
       "autoCreated": null,
       "validationRegex": null
      }
     }
    },
    "sr_fecha_liq": {
     "currentValue": " 2024-10-21",
     "nuid": "757a7e38-5e0d-4f57-998f-a2b1cc819925",
     "typedWidgetInfo": {
      "autoCreated": false,
      "defaultValue": "",
      "label": null,
      "name": "sr_fecha_liq",
      "options": {
       "widgetDisplayType": "Text",
       "validationRegex": null
      },
      "parameterDataType": "String"
     },
     "widgetInfo": {
      "widgetType": "text",
      "defaultValue": "",
      "label": null,
      "name": "sr_fecha_liq",
      "options": {
       "widgetType": "text",
       "autoCreated": null,
       "validationRegex": null
      }
     }
    },
    "sr_folio": {
     "currentValue": "202410161738499095",
     "nuid": "6d9eb0bd-844a-4051-803d-d4f7c10f0324",
     "typedWidgetInfo": {
      "autoCreated": false,
      "defaultValue": "",
      "label": null,
      "name": "sr_folio",
      "options": {
       "widgetDisplayType": "Text",
       "validationRegex": null
      },
      "parameterDataType": "String"
     },
     "widgetInfo": {
      "widgetType": "text",
      "defaultValue": "",
      "label": null,
      "name": "sr_folio",
      "options": {
       "widgetType": "text",
       "autoCreated": null,
       "validationRegex": null
      }
     }
    },
    "sr_folio_rel": {
     "currentValue": "null",
     "nuid": "e78130de-942f-485e-9998-67286488eac4",
     "typedWidgetInfo": {
      "autoCreated": false,
      "defaultValue": "",
      "label": null,
      "name": "sr_folio_rel",
      "options": {
       "widgetDisplayType": "Text",
       "validationRegex": null
      },
      "parameterDataType": "String"
     },
     "widgetInfo": {
      "widgetType": "text",
      "defaultValue": "",
      "label": null,
      "name": "sr_folio_rel",
      "options": {
       "widgetType": "text",
       "autoCreated": null,
       "validationRegex": null
      }
     }
    },
    "sr_id_snapshot": {
     "currentValue": "1",
     "nuid": "39bf60fb-57e1-4e2f-9f8f-94c43f6d5ef9",
     "typedWidgetInfo": {
      "autoCreated": false,
      "defaultValue": "",
      "label": null,
      "name": "sr_id_snapshot",
      "options": {
       "widgetDisplayType": "Text",
       "validationRegex": null
      },
      "parameterDataType": "String"
     },
     "widgetInfo": {
      "widgetType": "text",
      "defaultValue": "",
      "label": null,
      "name": "sr_id_snapshot",
      "options": {
       "widgetType": "text",
       "autoCreated": null,
       "validationRegex": null
      }
     }
    },
    "sr_instancia_proceso": {
     "currentValue": "1",
     "nuid": "5a2dda25-0340-48cc-8bff-1576a2e7023d",
     "typedWidgetInfo": {
      "autoCreated": false,
      "defaultValue": "",
      "label": null,
      "name": "sr_instancia_proceso",
      "options": {
       "widgetDisplayType": "Text",
       "validationRegex": null
      },
      "parameterDataType": "String"
     },
     "widgetInfo": {
      "widgetType": "text",
      "defaultValue": "",
      "label": null,
      "name": "sr_instancia_proceso",
      "options": {
       "widgetType": "text",
       "autoCreated": null,
       "validationRegex": null
      }
     }
    },
    "sr_origen_arc": {
     "currentValue": "1",
     "nuid": "1d69ce2a-c63d-47fb-a163-06310dfccb8f",
     "typedWidgetInfo": {
      "autoCreated": false,
      "defaultValue": "",
      "label": null,
      "name": "sr_origen_arc",
      "options": {
       "widgetDisplayType": "Text",
       "validationRegex": null
      },
      "parameterDataType": "String"
     },
     "widgetInfo": {
      "widgetType": "text",
      "defaultValue": "",
      "label": null,
      "name": "sr_origen_arc",
      "options": {
       "widgetType": "text",
       "autoCreated": null,
       "validationRegex": null
      }
     }
    },
    "sr_proceso": {
     "currentValue": "7",
     "nuid": "4c28f204-d81e-43bc-91dd-672e114663dc",
     "typedWidgetInfo": {
      "autoCreated": false,
      "defaultValue": "",
      "label": null,
      "name": "sr_proceso",
      "options": {
       "widgetDisplayType": "Text",
       "validationRegex": null
      },
      "parameterDataType": "String"
     },
     "widgetInfo": {
      "widgetType": "text",
      "defaultValue": "",
      "label": null,
      "name": "sr_proceso",
      "options": {
       "widgetType": "text",
       "autoCreated": null,
       "validationRegex": null
      }
     }
    },
    "sr_reproceso": {
     "currentValue": "1",
     "nuid": "30df323f-7451-4c7b-b93a-dc68c4cfe321",
     "typedWidgetInfo": {
      "autoCreated": false,
      "defaultValue": "",
      "label": null,
      "name": "sr_reproceso",
      "options": {
       "widgetDisplayType": "Text",
       "validationRegex": null
      },
      "parameterDataType": "String"
     },
     "widgetInfo": {
      "widgetType": "text",
      "defaultValue": "",
      "label": null,
      "name": "sr_reproceso",
      "options": {
       "widgetType": "text",
       "autoCreated": null,
       "validationRegex": null
      }
     }
    },
    "sr_subetapa": {
     "currentValue": "1",
     "nuid": "29f89e5c-507b-4805-b644-8b864167d9e4",
     "typedWidgetInfo": {
      "autoCreated": false,
      "defaultValue": "",
      "label": null,
      "name": "sr_subetapa",
      "options": {
       "widgetDisplayType": "Text",
       "validationRegex": null
      },
      "parameterDataType": "String"
     },
     "widgetInfo": {
      "widgetType": "text",
      "defaultValue": "",
      "label": null,
      "name": "sr_subetapa",
      "options": {
       "widgetType": "text",
       "autoCreated": null,
       "validationRegex": null
      }
     }
    },
    "sr_subproceso": {
     "currentValue": "8",
     "nuid": "93ba4e50-ca56-4392-9218-523efb75d454",
     "typedWidgetInfo": {
      "autoCreated": false,
      "defaultValue": "",
      "label": null,
      "name": "sr_subproceso",
      "options": {
       "widgetDisplayType": "Text",
       "validationRegex": null
      },
      "parameterDataType": "String"
     },
     "widgetInfo": {
      "widgetType": "text",
      "defaultValue": "",
      "label": null,
      "name": "sr_subproceso",
      "options": {
       "widgetType": "text",
       "autoCreated": null,
       "validationRegex": null
      }
     }
    },
    "sr_tipo_mov": {
     "currentValue": "2",
     "nuid": "7fe53fa2-6398-415f-863e-e57ca3fb1bff",
     "typedWidgetInfo": {
      "autoCreated": false,
      "defaultValue": "",
      "label": null,
      "name": "sr_tipo_mov",
      "options": {
       "widgetDisplayType": "Text",
       "validationRegex": null
      },
      "parameterDataType": "String"
     },
     "widgetInfo": {
      "widgetType": "text",
      "defaultValue": "",
      "label": null,
      "name": "sr_tipo_mov",
      "options": {
       "widgetType": "text",
       "autoCreated": null,
       "validationRegex": null
      }
     }
    },
    "sr_usuario": {
     "currentValue": "1",
     "nuid": "5cb11e47-c014-4edb-96b9-4921348490df",
     "typedWidgetInfo": {
      "autoCreated": false,
      "defaultValue": "",
      "label": null,
      "name": "sr_usuario",
      "options": {
       "widgetDisplayType": "Text",
       "validationRegex": null
      },
      "parameterDataType": "String"
     },
     "widgetInfo": {
      "widgetType": "text",
      "defaultValue": "",
      "label": null,
      "name": "sr_usuario",
      "options": {
       "widgetType": "text",
       "autoCreated": null,
       "validationRegex": null
      }
     }
    },
    "tl_cre_dispersion": {
     "currentValue": "TTSISGRAL_ETL_DISPERSION",
     "nuid": "fef82f79-4a9e-43d6-9466-490ce28d82fe",
     "typedWidgetInfo": {
      "autoCreated": false,
      "defaultValue": "TTSISGRAL_ETL_DISPERSION",
      "label": null,
      "name": "tl_cre_dispersion",
      "options": {
       "widgetDisplayType": "Text",
       "validationRegex": null
      },
      "parameterDataType": "String"
     },
     "widgetInfo": {
      "widgetType": "text",
      "defaultValue": "TTSISGRAL_ETL_DISPERSION",
      "label": null,
      "name": "tl_cre_dispersion",
      "options": {
       "widgetType": "text",
       "autoCreated": null,
       "validationRegex": null
      }
     }
    }
   }
  },
  "kernelspec": {
   "display_name": ".env",
   "language": "python",
   "name": "python3"
  },
  "language_info": {
   "name": "python"
  }
 },
 "nbformat": 4,
 "nbformat_minor": 0
}
