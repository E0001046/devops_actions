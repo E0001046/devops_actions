{
 "cells": [
  {
   "cell_type": "code",
   "execution_count": 0,
   "metadata": {
    "application/vnd.databricks.v1+cell": {
     "cellMetadata": {
      "byteLimit": 2048000,
      "rowLimit": 10000
     },
     "collapsed": true,
     "inputWidgets": {},
     "nuid": "69bf3750-5226-4188-9e99-79e1e216ab4f",
     "showTitle": false,
     "tableResultSettingsMap": {},
     "title": ""
    }
   },
   "outputs": [],
   "source": [
    "%load_ext autoreload\n",
    "%autoreload 2\n",
    "%reload_ext autoreload\n",
    "import sys\n",
    "import configparser\n",
    "import logging\n",
    "import inspect\n",
    "from pyspark.sql.functions import count, lit, current_timestamp\n",
    "from pyspark.sql import SparkSession\n",
    "from pyspark.sql.functions import col\n",
    "from pyspark.sql.types import IntegerType, StringType\n",
    "\n",
    "# Configuración del logger\n",
    "logging.getLogger().setLevel(logging.INFO)\n",
    "logger = logging.getLogger(\"py4j\")\n",
    "logger.setLevel(logging.WARN)\n",
    "logger = logging.getLogger(__name__)\n",
    "\n",
    "prod = True  # Para setear paths\n",
    "\n",
    "# Variables globales\n",
    "\n",
    "root_repo = \"/Workspace/Shared/MITAFO\"\n",
    "config_files = {\n",
    "    \"general\": f\"{root_repo}/CGRLS_0010/Conf/CF_GRLS_PROCESS.py.properties\",\n",
    "    \"connection\": f\"{root_repo}/CGRLS_0010/Conf/CF_GRLS_CONN.py.properties\",\n",
    "    \"process\": f\"{root_repo}/ANCIN_0030/Jobs/04_GEN_ACRED_MOVS/DISPERSIONES/Conf/CF_PART_PROC.py.properties\"\n",
    "    if prod\n",
    "    else \"/Workspace/Repos/mronboye@emeal.nttdata.com/QueryConfigLab.ide/\"\n",
    "    \"MITAFO/ANCIN_0030/Jobs/04_GEN_ACRED_MOVS/\"\n",
    "    \"DISPERSIONES/Conf/\"\n",
    "    \"CF_PART_PROC.py.properties\",\n",
    "}\n",
    "\n",
    "notebook_name = (\n",
    "    dbutils.notebook.entry_point.getDbutils()\n",
    "    .notebook()\n",
    "    .getContext()\n",
    "    .notebookPath()\n",
    "    .get()\n",
    ")\n",
    "message = \"NB Error: \" + notebook_name\n",
    "source = \"ETL\"\n",
    "\n",
    "process_name = \"root\"\n",
    "\n",
    "# Carga de funciones externas\n",
    "sys.path.append(f\"{root_repo}/CGRLS_0010/Notebooks\")\n",
    "try:\n",
    "    from NB_GRLS_DML_FUNCTIONS import *\n",
    "    from NB_GRLS_SIMPLE_FUNCTIONS import *\n",
    "except Exception as e:\n",
    "    logger.error(\"Error al cargar funciones externas: %s\", e)\n",
    "\n",
    "global_params = {}\n",
    "global_confs = {}  # Diccionario para almacenar las keys globales\n",
    "\n",
    "\n",
    "def input_values() -> dict:\n",
    "    \"\"\"Obtiene los valores de los widgets de entrada y los almacena en un diccionario global.\"\"\"\n",
    "\n",
    "    # Definir los widgets en minúsculas\n",
    "    widget_defaults = {\n",
    "        \"SR_FOLIO_REL\": \"\",\n",
    "        \"SR_PROCESO\": \"\",\n",
    "        \"SR_FECHA_LIQ\": \"\",\n",
    "        \"SR_TIPO_MOV\": \"\",\n",
    "        \"SR_REPROCESO\": \"\",\n",
    "        \"SR_SUBPROCESO\": \"\",\n",
    "        \"SR_USUARIO\": \"\",\n",
    "        \"SR_INSTANCIA_PROCESO\": \"\",\n",
    "        \"SR_ORIGEN_ARC\": \"\",\n",
    "        \"SR_ID_SNAPSHOT\": \"\",\n",
    "        \"SR_FECHA_ACC\": \"\",\n",
    "        \"SR_FOLIO\": \"\",\n",
    "        \"SR_SUBETAPA\": \"\",\n",
    "    }\n",
    "\n",
    "    # Crear los widgets en minúsculas\n",
    "    for key, default_value in widget_defaults.items():\n",
    "        dbutils.widgets.text(key.lower(), default_value)\n",
    "\n",
    "    # Actualizar el diccionario global en mayúsculas para el resto del notebook\n",
    "    global_params.update(\n",
    "        {\n",
    "            key.upper(): dbutils.widgets.get(key.lower()).strip()\n",
    "            for key in widget_defaults\n",
    "        }\n",
    "    )\n",
    "\n",
    "    # Verificar si los valores son válidos\n",
    "    if any(not value for value in global_params.values()):\n",
    "        logger.error(\"Valores de entrada vacíos o nulos\")\n",
    "        global_params[\"status\"] = \"0\"\n",
    "    else:\n",
    "        global_params[\"status\"] = \"1\"\n",
    "\n",
    "    return global_params\n",
    "\n",
    "\n",
    "def conf_process_values(arg_config_file: str, arg_process_name: str) -> tuple:\n",
    "    \"\"\"Obtiene los valores de configuración del proceso y los almacena en un diccionario global.\"\"\"\n",
    "    keys = [\n",
    "        \"sql_conf_file\",  # siempre de primero\n",
    "        \"debug\",  # siempre de segundo\n",
    "        \"conn_schema_001\",\n",
    "        \"conn_schema_002\",\n",
    "        \"catalog_name\",\n",
    "        \"schema_name\",\t\n",
    "    ]\n",
    "\n",
    "    try:\n",
    "        config = configparser.ConfigParser()\n",
    "        config.read(arg_config_file)\n",
    "        result = {key: config.get(arg_process_name, key) for key in keys}\n",
    "        result[\"status\"] = \"1\"\n",
    "        # Almacenar los valores en el diccionario global\n",
    "        global_confs.update(result)\n",
    "    except (ValueError, IOError) as error:\n",
    "        logger.error(\"Error en la función %s: %s\", inspect.stack()[0][3], error)\n",
    "        result = {key: \"0\" for key in keys}\n",
    "        result[\"status\"] = \"0\"\n",
    "        # Almacenar los valores en el diccionario global\n",
    "        global_confs.update(result)\n",
    "\n",
    "    return tuple(result.values())\n",
    "\n",
    "# Configuración del manejador global de excepciones\n",
    "def global_exception_handler(exc_type, exc_value, exc_traceback):\n",
    "    if issubclass(exc_type, KeyboardInterrupt):\n",
    "        # Permitir que KeyboardInterrupt se maneje normalmente\n",
    "        sys.__excepthook__(exc_type, exc_value, exc_traceback)\n",
    "        return\n",
    "\n",
    "    message = f\"Uncaught exception: {exc_value}\"\n",
    "    source = \"ETL\"\n",
    "    input_parameters = dbutils.widgets.getAll().items()\n",
    "    # Registro del error y notificación\n",
    "    logger.error(\"Please review log messages\")\n",
    "    notification_raised(webhook_url, -1, message, source, input_parameters)\n",
    "    raise Exception(\"An error raised\")\n",
    "\n",
    "# Asigna el manejador de excepciones al hook global de sys\n",
    "sys.excepthook = global_exception_handler\n",
    "\n",
    "\n",
    "if __name__ == \"__main__\":\n",
    "    # Inicialización de variables\n",
    "    input_parameters = dbutils.widgets.getAll().items()\n",
    "\n",
    "    webhook_url, channel, failed_task = conf_init_values(\n",
    "        config_files[\"general\"], process_name, \"TEMP_PROCESS\"\n",
    "    )\n",
    "\n",
    "    # Inicialización de variables\n",
    "    input_values()\n",
    "    if global_params[\"status\"] == \"0\":\n",
    "        logger.error(\"Revisar mensajes en los logs\")\n",
    "        notification_raised(webhook_url, -1, message, source, input_parameters)\n",
    "        raise Exception(\"Error en los valores de entrada, revisar logs\")\n",
    "\n",
    "    if failed_task == \"0\":\n",
    "        logger.error(\"Please review log messages\")\n",
    "        notification_raised(webhook_url, -1, message, source, input_parameters)\n",
    "        raise Exception(\"Process ends\")\n",
    "\n",
    "    process_name = \"root\"\n",
    "    conf_values = conf_process_values(config_files[\"process\"], process_name)\n",
    "    if conf_values[-1] == \"0\":\n",
    "        logger.error(\"Revisar mensajes en los logs\")\n",
    "        notification_raised(webhook_url, -1, message, source, input_parameters)\n",
    "        raise Exception(\"Error en la configuración del proceso, revisar logs\")\n",
    "\n",
    "    conn_name_ora = \"jdbc_oracle\"\n",
    "    (\n",
    "        conn_options,\n",
    "        conn_additional_options,\n",
    "        conn_user,\n",
    "        conn_key,\n",
    "        conn_url,\n",
    "        scope,\n",
    "        failed_task,\n",
    "    ) = conf_conn_values(config_files[\"connection\"], conn_name_ora)\n",
    "    if failed_task == \"0\":\n",
    "        logger.error(\"Revisar mensajes en los logs\")\n",
    "        notification_raised(webhook_url, -1, message, source, input_parameters)\n",
    "        raise Exception(\"Error en la configuración de la conexión, revisar logs\")\n",
    "\n",
    "    if prod:\n",
    "        sql_conf_file = f\"{root_repo}/ANCIN_0030/Jobs/04_GEN_ACRED_MOVS/DISPERSIONES/JSON/{conf_values[0]}\"\n",
    "    else:\n",
    "        sql_conf_file = f\"/Workspace/Repos/mronboye@emeal.nttdata.com/QueryConfigLab.ide/MITAFO/ANCIN_0030/Jobs/04_GEN_ACRED_MOVS/DISPERSIONES/JSON/{conf_values[0]}\"\n",
    "    # Seteamos el valor de debug\n",
    "    debug = conf_values[1]\n",
    "    debug = debug.lower() == \"true\""
   ]
  },
  {
   "cell_type": "code",
   "execution_count": 0,
   "metadata": {
    "application/vnd.databricks.v1+cell": {
     "cellMetadata": {
      "byteLimit": 2048000,
      "rowLimit": 10000
     },
     "collapsed": true,
     "inputWidgets": {},
     "nuid": "22e8c571-169e-4669-984b-2e8ec639dacd",
     "showTitle": false,
     "tableResultSettingsMap": {},
     "title": ""
    }
   },
   "outputs": [],
   "source": [
    "with open(sql_conf_file) as f:\n",
    "    file_config_sql = json.load(f)\n",
    "\n",
    "conf_values = [\n",
    "    (fields[\"step_id\"], \"\\n\".join(fields[\"value\"]))\n",
    "    for line, value in file_config_sql.items()\n",
    "    if line == \"steps\"\n",
    "    for fields in value\n",
    "]"
   ]
  },
  {
   "cell_type": "markdown",
   "metadata": {
    "application/vnd.databricks.v1+cell": {
     "cellMetadata": {
      "byteLimit": 2048000,
      "rowLimit": 10000
     },
     "inputWidgets": {},
     "nuid": "04e4d72d-7276-4256-8225-4c09365bbe2e",
     "showTitle": false,
     "tableResultSettingsMap": {},
     "title": ""
    }
   },
   "source": [
    "### Extraccion a `CIERREN_ETL.TTSISGRAL_ETL_DISPERSION`"
   ]
  },
  {
   "cell_type": "code",
   "execution_count": 0,
   "metadata": {
    "application/vnd.databricks.v1+cell": {
     "cellMetadata": {
      "byteLimit": 2048000,
      "rowLimit": 10000
     },
     "inputWidgets": {},
     "nuid": "173c0376-4d49-4124-8e17-6c1fc648bd83",
     "showTitle": false,
     "tableResultSettingsMap": {},
     "title": ""
    }
   },
   "outputs": [],
   "source": [
    "query_statement = \"001\"\n",
    "\n",
    "params = [\n",
    "    global_params[\"SR_FOLIO\"],\n",
    "    global_params[\"SR_FOLIO_REL\"],\n",
    "]\n",
    "\n",
    "statement, failed_task = getting_statement(conf_values, query_statement, params)\n",
    "\n",
    "if failed_task == \"0\":\n",
    "    logger.error(\"No value %s found\", statement)\n",
    "    logger.error(\"Please review log messages\")\n",
    "    notification_raised(webhook_url, -1, message, source, global_params)\n",
    "    raise Exception(\"Process ends\")\n",
    "\n",
    "# Ensure the statement is correctly formatted with the parameters\n",
    "formatted_statement = statement.format(*params)\n",
    "\n",
    "DF_100_CRE_ETL_DISPERSION, failed_task = query_table(\n",
    "    conn_name_ora, spark, formatted_statement, conn_options, conn_user, conn_key\n",
    ")\n",
    "\n",
    "# Inserto DF_100_CRE_ETL_DISPERSION al cache\n",
    "DF_100_CRE_ETL_DISPERSION.cache()\n",
    "\n",
    "if failed_task == \"0\":\n",
    "    logger.error(\"Please review log messages\")\n",
    "    notification_raised(webhook_url, -1, message, source, input_parameters)\n",
    "    raise Exception(\"An error raised\")\n",
    "\n",
    "if debug:\n",
    "    display(DF_100_CRE_ETL_DISPERSION)"
   ]
  },
  {
   "cell_type": "markdown",
   "metadata": {
    "application/vnd.databricks.v1+cell": {
     "cellMetadata": {
      "byteLimit": 2048000,
      "rowLimit": 10000
     },
     "inputWidgets": {},
     "nuid": "5e4ec93a-3ca6-435f-b88e-d47bb020568b",
     "showTitle": false,
     "tableResultSettingsMap": {},
     "title": ""
    }
   },
   "source": [
    "### Extraccion a `CIERREN.TTAFOGRAL_MATRIZ_CONVIVENCIA`"
   ]
  },
  {
   "cell_type": "code",
   "execution_count": 0,
   "metadata": {
    "application/vnd.databricks.v1+cell": {
     "cellMetadata": {
      "byteLimit": 2048000,
      "rowLimit": 10000
     },
     "inputWidgets": {},
     "nuid": "0f13a2ec-7d9c-4844-a1f9-2bece3bd1954",
     "showTitle": false,
     "tableResultSettingsMap": {},
     "title": ""
    }
   },
   "outputs": [],
   "source": [
    "query_statement = \"002\"\n",
    "\n",
    "params = [\n",
    "    global_params[\"SR_FOLIO\"],\n",
    "]\n",
    "\n",
    "statement, failed_task = getting_statement(conf_values, query_statement, params)\n",
    "\n",
    "if failed_task == \"0\":\n",
    "    logger.error(\"No value %s found\", statement)\n",
    "    logger.error(\"Please review log messages\")\n",
    "    notification_raised(webhook_url, -1, message, source, global_params)\n",
    "    raise Exception(\"Process ends\")\n",
    "\n",
    "# Ensure the statement is correctly formatted with the parameters\n",
    "formatted_statement = statement.format(*params)\n",
    "\n",
    "DF_200_MATRIZ, failed_task = query_table(\n",
    "    conn_name_ora, spark, formatted_statement, conn_options, conn_user, conn_key\n",
    ")\n",
    "\n",
    "# Inserto DF_200_MATRIZ al cache\n",
    "DF_200_MATRIZ.cache()\n",
    "\n",
    "if failed_task == \"0\":\n",
    "    logger.error(\"Please review log messages\")\n",
    "    notification_raised(webhook_url, -1, message, source, input_parameters)\n",
    "    raise Exception(\"An error raised\")\n",
    "\n",
    "if debug:\n",
    "    display(DF_200_MATRIZ)"
   ]
  },
  {
   "cell_type": "markdown",
   "metadata": {
    "application/vnd.databricks.v1+cell": {
     "cellMetadata": {
      "byteLimit": 2048000,
      "rowLimit": 10000
     },
     "inputWidgets": {},
     "nuid": "7cc524a7-540c-42bf-8e18-f09b63b235ef",
     "showTitle": false,
     "tableResultSettingsMap": {},
     "title": ""
    }
   },
   "source": [
    "Se hace un inner join de las 2 consultas anteriores a traves de la key `FTN_NUM_CTA_INVDUAL` con el objetivo de mapear `ID_MARCA`"
   ]
  },
  {
   "cell_type": "code",
   "execution_count": 0,
   "metadata": {
    "application/vnd.databricks.v1+cell": {
     "cellMetadata": {
      "byteLimit": 2048000,
      "rowLimit": 10000
     },
     "inputWidgets": {},
     "nuid": "33dcff9b-4f1e-4521-8358-30b0c40fe75c",
     "showTitle": false,
     "tableResultSettingsMap": {},
     "title": ""
    }
   },
   "outputs": [],
   "source": [
    "# Perform an inner join between DF_100_CRE_ETL_DISPERSION and DF_200_MATRIZ on the key FTN_NUM_CTA_INVDUAL\n",
    "# The final DataFrame should include the key ID_MARCA\n",
    "\n",
    "# Assuming the key columns are named 'FTN_NUM_CTA_INVDUAL' in both DataFrames\n",
    "main_df = DF_100_CRE_ETL_DISPERSION.join(\n",
    "    DF_200_MATRIZ,\n",
    "    DF_100_CRE_ETL_DISPERSION[\"FTN_NUM_CTA_INVDUAL\"] == DF_200_MATRIZ[\"FTN_NUM_CTA_INVDUAL\"],\n",
    "    \"inner\"\n",
    ").select(DF_100_CRE_ETL_DISPERSION[\"*\"], DF_200_MATRIZ[\"FTN_ID_MARCA\"])\n",
    "\n",
    "# unpersist the cache\n",
    "DF_200_MATRIZ.unpersist()\n",
    "DF_100_CRE_ETL_DISPERSION.unpersist()\n",
    "\n",
    "# eliminar los df\n",
    "del DF_200_MATRIZ, DF_100_CRE_ETL_DISPERSION\n",
    "\n",
    "# Inserto main_df al cache\n",
    "main_df.cache()\n",
    "\n",
    "if debug:\n",
    "    display(main_df)"
   ]
  },
  {
   "cell_type": "markdown",
   "metadata": {
    "application/vnd.databricks.v1+cell": {
     "cellMetadata": {
      "byteLimit": 2048000,
      "rowLimit": 10000
     },
     "inputWidgets": {},
     "nuid": "660bb458-0d45-4316-a326-79cdd1d5fc0b",
     "showTitle": false,
     "tableResultSettingsMap": {},
     "title": ""
    }
   },
   "source": [
    "### Extraccion a `CIERREN.TCCRXGRAL_TIPO_SUBCTA`"
   ]
  },
  {
   "cell_type": "code",
   "execution_count": 0,
   "metadata": {
    "application/vnd.databricks.v1+cell": {
     "cellMetadata": {
      "byteLimit": 2048000,
      "rowLimit": 10000
     },
     "inputWidgets": {},
     "nuid": "4127fa63-cba4-4fe0-8919-f8561fc19780",
     "showTitle": false,
     "tableResultSettingsMap": {},
     "title": ""
    }
   },
   "outputs": [],
   "source": [
    "query_statement = \"003\"\n",
    "\n",
    "params = [\n",
    "]\n",
    "\n",
    "statement, failed_task = getting_statement(conf_values, query_statement, params)\n",
    "\n",
    "if failed_task == \"0\":\n",
    "    logger.error(\"No value %s found\", statement)\n",
    "    logger.error(\"Please review log messages\")\n",
    "    notification_raised(webhook_url, -1, message, source, global_params)\n",
    "    raise Exception(\"Process ends\")\n",
    "\n",
    "# Ensure the statement is correctly formatted with the parameters\n",
    "formatted_statement = statement.format(*params)\n",
    "\n",
    "DF_300_TipoSubcta, failed_task = query_table(\n",
    "    conn_name_ora, spark, formatted_statement, conn_options, conn_user, conn_key\n",
    ")\n",
    "\n",
    "# Inserto DF_300_TipoSubcta al cache\n",
    "DF_300_TipoSubcta.cache()\n",
    "\n",
    "if failed_task == \"0\":\n",
    "    logger.error(\"Please review log messages\")\n",
    "    notification_raised(webhook_url, -1, message, source, input_parameters)\n",
    "    raise Exception(\"An error raised\")\n",
    "\n",
    "if debug:\n",
    "    display(DF_300_TipoSubcta)"
   ]
  },
  {
   "cell_type": "markdown",
   "metadata": {
    "application/vnd.databricks.v1+cell": {
     "cellMetadata": {
      "byteLimit": 2048000,
      "rowLimit": 10000
     },
     "inputWidgets": {},
     "nuid": "87df54e5-13d3-4d0d-8359-969342239c28",
     "showTitle": false,
     "tableResultSettingsMap": {},
     "title": ""
    }
   },
   "source": [
    "Hacemos un inner join entre `DF_300_TipoSubcta` y los datos del flujo (`main_df`) a través de la key `FCN_ID_TIPO_SUBCTA`, esto con el propósito de mapear los campos `ID_PLAZO` y `ID_REGIMEN`"
   ]
  },
  {
   "cell_type": "code",
   "execution_count": 0,
   "metadata": {
    "application/vnd.databricks.v1+cell": {
     "cellMetadata": {
      "byteLimit": 2048000,
      "rowLimit": 10000
     },
     "inputWidgets": {},
     "nuid": "ac19f30e-8282-4b60-9a88-843e3a3db810",
     "showTitle": false,
     "tableResultSettingsMap": {},
     "title": ""
    }
   },
   "outputs": [],
   "source": [
    "# Perform an inner join between DF_300_TipoSubcta and main_df on the key FCN_ID_TIPO_SUBCTA\n",
    "# The final DataFrame should include the fields ID_PLAZO and ID_REGIMEN\n",
    "\n",
    "# Assuming the key columns are named 'FCN_ID_TIPO_SUBCTA' in both DataFrames\n",
    "main_df = main_df.join(\n",
    "    DF_300_TipoSubcta,\n",
    "    main_df[\"FCN_ID_TIPO_SUBCTA\"] == DF_300_TipoSubcta[\"FCN_ID_TIPO_SUBCTA\"],\n",
    "    \"inner\"\n",
    ").select(main_df[\"*\"], DF_300_TipoSubcta[\"FCN_ID_PLAZO\"], DF_300_TipoSubcta[\"FCN_ID_REGIMEN\"])\n",
    "\n",
    "# unpersist the cache\n",
    "DF_300_TipoSubcta.unpersist()\n",
    "\n",
    "# eliminar los df\n",
    "del DF_300_TipoSubcta\n",
    "\n",
    "if debug:\n",
    "    display(main_df)"
   ]
  },
  {
   "cell_type": "markdown",
   "metadata": {
    "application/vnd.databricks.v1+cell": {
     "cellMetadata": {
      "byteLimit": 2048000,
      "rowLimit": 10000
     },
     "inputWidgets": {},
     "nuid": "f6eca853-9bfd-491e-9e93-4d6d5c4ff5db",
     "showTitle": false,
     "tableResultSettingsMap": {},
     "title": ""
    }
   },
   "source": [
    "Luego le hacemos un cambio al campo `FCN_ID_REGIMEN` según esta regla: \n",
    "```sql\n",
    "IF FCN_ID_SIEFORE = 82 then 140 ELSE\n",
    "\tIF FCN_ID_SIEFORE = 83 then 140 ELSE FCN_ID_REGIMEN\n",
    "```"
   ]
  },
  {
   "cell_type": "code",
   "execution_count": 0,
   "metadata": {
    "application/vnd.databricks.v1+cell": {
     "cellMetadata": {
      "byteLimit": 2048000,
      "rowLimit": 10000
     },
     "inputWidgets": {},
     "nuid": "62816f5b-38e9-43ce-9866-a79e219492b6",
     "showTitle": false,
     "tableResultSettingsMap": {},
     "title": ""
    }
   },
   "outputs": [],
   "source": [
    "from pyspark.sql.functions import when, col\n",
    "\n",
    "# Apply the rule to the main_df DataFrame\n",
    "main_df = main_df.withColumn(\n",
    "    \"FCN_ID_REGIMEN\",\n",
    "    when(col(\"FCN_ID_SIEFORE\") == 82, 140).otherwise(\n",
    "        when(col(\"FCN_ID_SIEFORE\") == 83, 140).otherwise(col(\"FCN_ID_REGIMEN\"))\n",
    "    ),\n",
    ")\n",
    "\n",
    "if debug:\n",
    "    display(main_df)"
   ]
  },
  {
   "cell_type": "markdown",
   "metadata": {
    "application/vnd.databricks.v1+cell": {
     "cellMetadata": {
      "byteLimit": 2048000,
      "rowLimit": 10000
     },
     "inputWidgets": {},
     "nuid": "f3c93677-fc93-428b-a776-3678dd330dc8",
     "showTitle": false,
     "tableResultSettingsMap": {},
     "title": ""
    }
   },
   "source": [
    "### Extraccion a `CIERREN.TCAFOGRAL_VALOR_ACCION`"
   ]
  },
  {
   "cell_type": "code",
   "execution_count": 0,
   "metadata": {
    "application/vnd.databricks.v1+cell": {
     "cellMetadata": {
      "byteLimit": 2048000,
      "rowLimit": 10000
     },
     "inputWidgets": {},
     "nuid": "010487f1-a453-4286-b5ff-9a5aa7b37b67",
     "showTitle": false,
     "tableResultSettingsMap": {},
     "title": ""
    }
   },
   "outputs": [],
   "source": [
    "query_statement = \"004\"\n",
    "\n",
    "params = [\n",
    "    global_params[\"SR_FECHA_ACC\"]\n",
    "]\n",
    "\n",
    "statement, failed_task = getting_statement(conf_values, query_statement, params)\n",
    "\n",
    "if failed_task == \"0\":\n",
    "    logger.error(\"No value %s found\", statement)\n",
    "    logger.error(\"Please review log messages\")\n",
    "    notification_raised(webhook_url, -1, message, source, global_params)\n",
    "    raise Exception(\"Process ends\")\n",
    "\n",
    "# Ensure the statement is correctly formatted with the parameters\n",
    "formatted_statement = statement.format(*params)\n",
    "\n",
    "DF_400_valorAccion, failed_task = query_table(\n",
    "    conn_name_ora, spark, formatted_statement, conn_options, conn_user, conn_key\n",
    ")\n",
    "\n",
    "# Inserto DF_400_valorAccion al cache\n",
    "DF_400_valorAccion.cache()\n",
    "\n",
    "if failed_task == \"0\":\n",
    "    logger.error(\"Please review log messages\")\n",
    "    notification_raised(webhook_url, -1, message, source, input_parameters)\n",
    "    raise Exception(\"An error raised\")\n",
    "\n",
    "if debug:\n",
    "    display(DF_400_valorAccion)"
   ]
  },
  {
   "cell_type": "markdown",
   "metadata": {
    "application/vnd.databricks.v1+cell": {
     "cellMetadata": {
      "byteLimit": 2048000,
      "rowLimit": 10000
     },
     "inputWidgets": {},
     "nuid": "93482270-7de0-4ed3-a326-47432086dcb3",
     "showTitle": false,
     "tableResultSettingsMap": {},
     "title": ""
    }
   },
   "source": [
    "Luego hacemos un inner join entre los datos del flujo (`main_df`) y la tabla `DB_400_valorAccion` con la finalidad de mapear los campos que se ven la imagen (`FCN_ID_VALOR_ACCION` y `FCN_VALOR_ACCION`). El inner join lo hacemos a través las keys `FCN_ID_SIEFORE` y `FCN_ID_REGIMEN`"
   ]
  },
  {
   "cell_type": "code",
   "execution_count": 0,
   "metadata": {
    "application/vnd.databricks.v1+cell": {
     "cellMetadata": {
      "byteLimit": 2048000,
      "rowLimit": 10000
     },
     "inputWidgets": {},
     "nuid": "1fb265e1-f7e6-433d-bc78-78cb8ae11696",
     "showTitle": false,
     "tableResultSettingsMap": {},
     "title": ""
    }
   },
   "outputs": [],
   "source": [
    "# Perform an inner join between main_df and DF_400_valorAccion on FCN_ID_SIEFORE and FCN_ID_REGIMEN\n",
    "main_df = main_df.join(\n",
    "    DF_400_valorAccion,\n",
    "    (main_df[\"FCN_ID_SIEFORE\"] == DF_400_valorAccion[\"FCN_ID_SIEFORE\"]) &\n",
    "    (main_df[\"FCN_ID_REGIMEN\"] == DF_400_valorAccion[\"FCN_ID_REGIMEN\"]),\n",
    "    \"inner\"\n",
    ").select(\n",
    "    main_df[\"*\"],\n",
    "    DF_400_valorAccion[\"FCN_ID_VALOR_ACCION\"],\n",
    "    DF_400_valorAccion[\"FCN_VALOR_ACCION\"]\n",
    ")\n",
    "\n",
    "# unpersist the cache\n",
    "DF_400_valorAccion.unpersist()\n",
    "\n",
    "# eliminar los df\n",
    "del DF_400_valorAccion\n",
    "\n",
    "if debug:\n",
    "    display(main_df)"
   ]
  },
  {
   "cell_type": "markdown",
   "metadata": {
    "application/vnd.databricks.v1+cell": {
     "cellMetadata": {
      "byteLimit": 2048000,
      "rowLimit": 10000
     },
     "inputWidgets": {},
     "nuid": "dbf333b9-3b02-48dc-affe-d425c507b989",
     "showTitle": false,
     "tableResultSettingsMap": {},
     "title": ""
    }
   },
   "source": [
    "### Extraccion a `CIERREN.TFAFOGRAL_CONFIG_CONCEP_MOV`"
   ]
  },
  {
   "cell_type": "code",
   "execution_count": 0,
   "metadata": {
    "application/vnd.databricks.v1+cell": {
     "cellMetadata": {
      "byteLimit": 2048000,
      "rowLimit": 10000
     },
     "inputWidgets": {},
     "nuid": "ce114dfd-8375-4650-a7ac-ab4b3eb6347b",
     "showTitle": false,
     "tableResultSettingsMap": {},
     "title": ""
    }
   },
   "outputs": [],
   "source": [
    "query_statement = \"005\"\n",
    "\n",
    "params = [\n",
    "]\n",
    "\n",
    "statement, failed_task = getting_statement(conf_values, query_statement, params)\n",
    "\n",
    "if failed_task == \"0\":\n",
    "    logger.error(\"No value %s found\", statement)\n",
    "    logger.error(\"Please review log messages\")\n",
    "    notification_raised(webhook_url, -1, message, source, global_params)\n",
    "    raise Exception(\"Process ends\")\n",
    "\n",
    "# Ensure the statement is correctly formatted with the parameters\n",
    "formatted_statement = statement.format(*params)\n",
    "\n",
    "DF_500_ConfigConcept, failed_task = query_table(\n",
    "    conn_name_ora, spark, formatted_statement, conn_options, conn_user, conn_key\n",
    ")\n",
    "\n",
    "# Inserto DF_500_ConfigConcept al cache\n",
    "DF_500_ConfigConcept.cache()\n",
    "\n",
    "if failed_task == \"0\":\n",
    "    logger.error(\"Please review log messages\")\n",
    "    notification_raised(webhook_url, -1, message, source, input_parameters)\n",
    "    raise Exception(\"An error raised\")\n",
    "\n",
    "if debug:\n",
    "    display(DF_500_ConfigConcept)"
   ]
  },
  {
   "cell_type": "markdown",
   "metadata": {
    "application/vnd.databricks.v1+cell": {
     "cellMetadata": {
      "byteLimit": 2048000,
      "rowLimit": 10000
     },
     "inputWidgets": {},
     "nuid": "f08b8b71-e445-46cb-9e20-4df6a73ec452",
     "showTitle": false,
     "tableResultSettingsMap": {},
     "title": ""
    }
   },
   "source": [
    "Luego hacemos un inner join del `df_main` con `DF_500_ConfigConcept` a través de la key `FNN_ID_CONCEPTO_MOV`, con la finalidad de traernos el campo `FTN_DEDUCIBLE`"
   ]
  },
  {
   "cell_type": "code",
   "execution_count": 0,
   "metadata": {
    "application/vnd.databricks.v1+cell": {
     "cellMetadata": {
      "byteLimit": 2048000,
      "rowLimit": 10000
     },
     "inputWidgets": {},
     "nuid": "6a788f94-28da-4c1e-b84f-bde3d445e8d8",
     "showTitle": false,
     "tableResultSettingsMap": {},
     "title": ""
    }
   },
   "outputs": [],
   "source": [
    "# Perform an inner join between main_df and DF_500_ConfigConcept on FNN_ID_CONCEPTO_MOV\n",
    "main_df = main_df.join(\n",
    "    DF_500_ConfigConcept,\n",
    "    main_df[\"FFN_ID_CONCEPTO_MOV\"] == DF_500_ConfigConcept[\"FFN_ID_CONCEPTO_MOV\"],\n",
    "    \"inner\",\n",
    ").select(main_df[\"*\"], DF_500_ConfigConcept[\"FTN_DEDUCIBLE\"])\n",
    "\n",
    "# unpersist the cache\n",
    "DF_500_ConfigConcept.unpersist()\n",
    "\n",
    "# eliminar los df\n",
    "del DF_500_ConfigConcept\n",
    "\n",
    "if debug:\n",
    "    display(main_df)"
   ]
  },
  {
   "cell_type": "markdown",
   "metadata": {
    "application/vnd.databricks.v1+cell": {
     "cellMetadata": {
      "byteLimit": 2048000,
      "rowLimit": 10000
     },
     "inputWidgets": {},
     "nuid": "be8038d6-2d02-4d3c-a4a3-2b0cde98ca08",
     "showTitle": false,
     "tableResultSettingsMap": {},
     "title": ""
    }
   },
   "source": [
    "### Extraccion a `CIERREN_ETL.TTSISGRAL_ETL_DISPERSION`"
   ]
  },
  {
   "cell_type": "code",
   "execution_count": 0,
   "metadata": {
    "application/vnd.databricks.v1+cell": {
     "cellMetadata": {
      "byteLimit": 2048000,
      "rowLimit": 10000
     },
     "inputWidgets": {},
     "nuid": "4c30bee8-362e-46a8-833f-47b507af52ba",
     "showTitle": false,
     "tableResultSettingsMap": {},
     "title": ""
    }
   },
   "outputs": [],
   "source": [
    "query_statement = \"006\"\n",
    "\n",
    "params = [\n",
    "    global_params[\"SR_FOLIO\"]\n",
    "]\n",
    "\n",
    "statement, failed_task = getting_statement(conf_values, query_statement, params)\n",
    "\n",
    "if failed_task == \"0\":\n",
    "    logger.error(\"No value %s found\", statement)\n",
    "    logger.error(\"Please review log messages\")\n",
    "    notification_raised(webhook_url, -1, message, source, global_params)\n",
    "    raise Exception(\"Process ends\")\n",
    "\n",
    "# Ensure the statement is correctly formatted with the parameters\n",
    "formatted_statement = statement.format(*params)\n",
    "\n",
    "DF_100_CRE_ETL_DISPERSION_VIV, failed_task = query_table(\n",
    "    conn_name_ora, spark, formatted_statement, conn_options, conn_user, conn_key\n",
    ")\n",
    "\n",
    "# Inserto DF_100_CRE_ETL_DISPERSION_VIV al cache\n",
    "DF_100_CRE_ETL_DISPERSION_VIV.cache()\n",
    "\n",
    "if failed_task == \"0\":\n",
    "    logger.error(\"Please review log messages\")\n",
    "    notification_raised(webhook_url, -1, message, source, input_parameters)\n",
    "    raise Exception(\"An error raised\")\n",
    "\n",
    "if debug:\n",
    "    display(DF_100_CRE_ETL_DISPERSION_VIV)"
   ]
  },
  {
   "cell_type": "markdown",
   "metadata": {
    "application/vnd.databricks.v1+cell": {
     "cellMetadata": {
      "byteLimit": 2048000,
      "rowLimit": 10000
     },
     "inputWidgets": {},
     "nuid": "d575be15-2ce9-4ecb-8819-3e1459888428",
     "showTitle": false,
     "tableResultSettingsMap": {},
     "title": ""
    }
   },
   "source": [
    "Hacemos un left join de `main_df` con `DF_100_CRE_ETL_DISPERSION_VIV` a través de los campos: `FCN_ID_TIPO_SUBCTA`, `FCN_ID_SIEFORE`, `FTN_NUM_CTA_INVDUAL`, `FTC_TABLA_NCI_MOV`, `FTN_NO_LINEA` y `FFN_ID_CONCEPTO_MOV`. Del resultado final solo nos traemos la key `FTF_MONTO_ACCIONES`."
   ]
  },
  {
   "cell_type": "code",
   "execution_count": 0,
   "metadata": {
    "application/vnd.databricks.v1+cell": {
     "cellMetadata": {
      "byteLimit": 2048000,
      "rowLimit": 10000
     },
     "inputWidgets": {},
     "nuid": "20c3266e-d5a4-4918-842e-f95df701d315",
     "showTitle": false,
     "tableResultSettingsMap": {},
     "title": ""
    }
   },
   "outputs": [],
   "source": [
    "# Perform a left join between main_df and DF_100_CRE_ETL_DISPERSION_VIV on specified fields\n",
    "main_df = main_df.join(\n",
    "    DF_100_CRE_ETL_DISPERSION_VIV,\n",
    "    (main_df[\"FCN_ID_TIPO_SUBCTA\"] == DF_100_CRE_ETL_DISPERSION_VIV[\"FCN_ID_TIPO_SUBCTA\"]) &\n",
    "    (main_df[\"FCN_ID_SIEFORE\"] == DF_100_CRE_ETL_DISPERSION_VIV[\"FCN_ID_SIEFORE\"]) &\n",
    "    (main_df[\"FTN_NUM_CTA_INVDUAL\"] == DF_100_CRE_ETL_DISPERSION_VIV[\"FTN_NUM_CTA_INVDUAL\"]) &\n",
    "    (main_df[\"FTC_TABLA_NCI_MOV\"] == DF_100_CRE_ETL_DISPERSION_VIV[\"FTC_TABLA_NCI_MOV\"]) &\n",
    "    (main_df[\"FTN_NO_LINEA\"] == DF_100_CRE_ETL_DISPERSION_VIV[\"FTN_NO_LINEA\"]) &\n",
    "    (main_df[\"FFN_ID_CONCEPTO_MOV\"] == DF_100_CRE_ETL_DISPERSION_VIV[\"FFN_ID_CONCEPTO_MOV\"]),\n",
    "    \"left\"\n",
    ").select(main_df[\"*\"], DF_100_CRE_ETL_DISPERSION_VIV[\"FTF_MONTO_ACCIONES\"])\n",
    "\n",
    "# unpersist the cache\n",
    "DF_100_CRE_ETL_DISPERSION_VIV.unpersist\n",
    "\n",
    "# eliminar los df\n",
    "del DF_100_CRE_ETL_DISPERSION_VIV\n",
    "\n",
    "if debug:\n",
    "    display(main_df)"
   ]
  },
  {
   "cell_type": "code",
   "execution_count": 0,
   "metadata": {
    "application/vnd.databricks.v1+cell": {
     "cellMetadata": {
      "byteLimit": 2048000,
      "rowLimit": 10000
     },
     "inputWidgets": {},
     "nuid": "c2d99b7a-d6c3-4309-b80b-e8fd1e43253d",
     "showTitle": false,
     "tableResultSettingsMap": {},
     "title": ""
    }
   },
   "outputs": [],
   "source": [
    "display(main_df.filter(col(\"FFN_ID_CONCEPTO_MOV\")==225))"
   ]
  },
  {
   "cell_type": "code",
   "execution_count": 0,
   "metadata": {
    "application/vnd.databricks.v1+cell": {
     "cellMetadata": {
      "byteLimit": 2048000,
      "rowLimit": 10000
     },
     "inputWidgets": {},
     "nuid": "9ac90d8d-dab0-4ff4-a513-d3f321b4193f",
     "showTitle": false,
     "tableResultSettingsMap": {},
     "title": ""
    }
   },
   "outputs": [],
   "source": [
    "# display(main_df.filter(\n",
    "#     (main_df[\"FFN_ID_CONCEPTO_MOV\"] == 225) | \n",
    "#     (main_df[\"FFN_ID_CONCEPTO_MOV\"] == 227)\n",
    "# ))\n",
    "# main_df.count()"
   ]
  },
  {
   "cell_type": "markdown",
   "metadata": {
    "application/vnd.databricks.v1+cell": {
     "cellMetadata": {
      "byteLimit": 2048000,
      "rowLimit": 10000
     },
     "inputWidgets": {},
     "nuid": "98216ca5-f64f-407e-b54c-2258cafb1fb4",
     "showTitle": false,
     "tableResultSettingsMap": {},
     "title": ""
    }
   },
   "source": [
    "### Guardamos df_main en una ~~vista global~~, llamaremos a la vista `temp_dispersion_mov_01_{global_params['sr_folio']}`"
   ]
  },
  {
   "cell_type": "code",
   "execution_count": 0,
   "metadata": {
    "application/vnd.databricks.v1+cell": {
     "cellMetadata": {
      "byteLimit": 2048000,
      "rowLimit": 10000
     },
     "inputWidgets": {},
     "nuid": "ebf4ca28-6988-4af4-bd39-b53ad3ba74d6",
     "showTitle": false,
     "tableResultSettingsMap": {},
     "title": ""
    }
   },
   "outputs": [],
   "source": [
    "# Save main_df to a global view named temp_dispersion_01_{global_params['sr_folio']}\n",
    "view_name = f\"temp_dispersion_mov_01_{global_params['SR_FOLIO']}\"\n",
    "\n",
    "spark.sql(f\"DROP TABLE IF EXISTS {global_confs['catalog_name']}.{global_confs['schema_name']}.{view_name}\")\n",
    "main_df.write.format(\"delta\").mode(\"overwrite\").saveAsTable(\n",
    "    f\"{global_confs['catalog_name']}.{global_confs['schema_name']}.{view_name}\"\n",
    ")\n",
    "\n",
    "# main_df.createOrReplaceGlobalTempView(view_name)"
   ]
  },
  {
   "cell_type": "code",
   "execution_count": 0,
   "metadata": {
    "application/vnd.databricks.v1+cell": {
     "cellMetadata": {
      "byteLimit": 2048000,
      "rowLimit": 10000
     },
     "inputWidgets": {},
     "nuid": "27bea07a-65e8-4c16-a4d1-3f6f6d518cdd",
     "showTitle": false,
     "tableResultSettingsMap": {},
     "title": ""
    }
   },
   "outputs": [],
   "source": [
    "from pyspark.sql import DataFrame\n",
    "\n",
    "# Clear cache\n",
    "spark.catalog.clearCache()\n",
    "\n",
    "# Unpersist and delete all DataFrames\n",
    "for df_name in list(globals()):\n",
    "    if isinstance(globals()[df_name], DataFrame):\n",
    "        globals()[df_name].unpersist()\n",
    "        del globals()[df_name]"
   ]
  },
  {
   "cell_type": "code",
   "execution_count": 0,
   "metadata": {
    "application/vnd.databricks.v1+cell": {
     "cellMetadata": {
      "byteLimit": 2048000,
      "rowLimit": 10000
     },
     "inputWidgets": {},
     "nuid": "2f1e52da-a2ea-474b-8cbf-5aba05e01483",
     "showTitle": false,
     "tableResultSettingsMap": {},
     "title": ""
    }
   },
   "outputs": [],
   "source": [
    "# Liberar la caché del DataFrame si se usó cache\n",
    "main_df.unpersist()\n",
    "\n",
    "# Eliminar DataFrames para liberar memoria\n",
    "del main_df\n",
    "\n",
    "# Recolector de basura para liberar recursos inmediatamente\n",
    "import gc\n",
    "gc.collect()"
   ]
  }
 ],
 "metadata": {
  "application/vnd.databricks.v1+notebook": {
   "dashboards": [],
   "environmentMetadata": null,
   "language": "python",
   "notebookMetadata": {
    "pythonIndentUnit": 4,
    "widgetLayout": []
   },
   "notebookName": "NB_OPER_PANCIN_MOV_0010_EXT_ABONO",
   "widgets": {
    "sr_fecha_acc": {
     "currentValue": "20241025",
     "nuid": "fd8391e5-f886-45fd-a71b-8cd3c91591c9",
     "typedWidgetInfo": {
      "autoCreated": false,
      "defaultValue": "",
      "label": null,
      "name": "sr_fecha_acc",
      "options": {
       "widgetDisplayType": "Text",
       "validationRegex": null
      },
      "parameterDataType": "String"
     },
     "widgetInfo": {
      "widgetType": "text",
      "defaultValue": "",
      "label": null,
      "name": "sr_fecha_acc",
      "options": {
       "widgetType": "text",
       "autoCreated": null,
       "validationRegex": null
      }
     }
    },
    "sr_fecha_liq": {
     "currentValue": "20241025",
     "nuid": "c4993b3b-f9a3-43ff-86f1-a0bcbd413405",
     "typedWidgetInfo": {
      "autoCreated": false,
      "defaultValue": "",
      "label": null,
      "name": "sr_fecha_liq",
      "options": {
       "widgetDisplayType": "Text",
       "validationRegex": null
      },
      "parameterDataType": "String"
     },
     "widgetInfo": {
      "widgetType": "text",
      "defaultValue": "",
      "label": null,
      "name": "sr_fecha_liq",
      "options": {
       "widgetType": "text",
       "autoCreated": null,
       "validationRegex": null
      }
     }
    },
    "sr_folio": {
     "currentValue": "202410291533149159",
     "nuid": "c6e1c765-bfad-4d3c-81ea-cb55f6fb383c",
     "typedWidgetInfo": {
      "autoCreated": false,
      "defaultValue": "",
      "label": null,
      "name": "sr_folio",
      "options": {
       "widgetDisplayType": "Text",
       "validationRegex": null
      },
      "parameterDataType": "String"
     },
     "widgetInfo": {
      "widgetType": "text",
      "defaultValue": "",
      "label": null,
      "name": "sr_folio",
      "options": {
       "widgetType": "text",
       "autoCreated": null,
       "validationRegex": null
      }
     }
    },
    "sr_folio_rel": {
     "currentValue": "null",
     "nuid": "b465941e-ade2-4f64-ba9d-79589452f45c",
     "typedWidgetInfo": {
      "autoCreated": false,
      "defaultValue": "",
      "label": null,
      "name": "sr_folio_rel",
      "options": {
       "widgetDisplayType": "Text",
       "validationRegex": null
      },
      "parameterDataType": "String"
     },
     "widgetInfo": {
      "widgetType": "text",
      "defaultValue": "",
      "label": null,
      "name": "sr_folio_rel",
      "options": {
       "widgetType": "text",
       "autoCreated": null,
       "validationRegex": null
      }
     }
    },
    "sr_id_snapshot": {
     "currentValue": "1",
     "nuid": "5cd24a88-0c50-43b1-8a0a-53ccf45dad8c",
     "typedWidgetInfo": {
      "autoCreated": false,
      "defaultValue": "",
      "label": null,
      "name": "sr_id_snapshot",
      "options": {
       "widgetDisplayType": "Text",
       "validationRegex": null
      },
      "parameterDataType": "String"
     },
     "widgetInfo": {
      "widgetType": "text",
      "defaultValue": "",
      "label": null,
      "name": "sr_id_snapshot",
      "options": {
       "widgetType": "text",
       "autoCreated": null,
       "validationRegex": null
      }
     }
    },
    "sr_instancia_proceso": {
     "currentValue": "1",
     "nuid": "f61a37b6-7d65-45c2-aa74-d6a1eba8fd1c",
     "typedWidgetInfo": {
      "autoCreated": false,
      "defaultValue": "",
      "label": null,
      "name": "sr_instancia_proceso",
      "options": {
       "widgetDisplayType": "Text",
       "validationRegex": null
      },
      "parameterDataType": "String"
     },
     "widgetInfo": {
      "widgetType": "text",
      "defaultValue": "",
      "label": null,
      "name": "sr_instancia_proceso",
      "options": {
       "widgetType": "text",
       "autoCreated": null,
       "validationRegex": null
      }
     }
    },
    "sr_origen_arc": {
     "currentValue": "1",
     "nuid": "cdf6faab-6a99-450c-bc1f-e92af10ea3f2",
     "typedWidgetInfo": {
      "autoCreated": false,
      "defaultValue": "",
      "label": null,
      "name": "sr_origen_arc",
      "options": {
       "widgetDisplayType": "Text",
       "validationRegex": null
      },
      "parameterDataType": "String"
     },
     "widgetInfo": {
      "widgetType": "text",
      "defaultValue": "",
      "label": null,
      "name": "sr_origen_arc",
      "options": {
       "widgetType": "text",
       "autoCreated": null,
       "validationRegex": null
      }
     }
    },
    "sr_proceso": {
     "currentValue": "7",
     "nuid": "a1361b2a-8589-43f5-a08f-f901817ecc35",
     "typedWidgetInfo": {
      "autoCreated": false,
      "defaultValue": "",
      "label": null,
      "name": "sr_proceso",
      "options": {
       "widgetDisplayType": "Text",
       "validationRegex": null
      },
      "parameterDataType": "String"
     },
     "widgetInfo": {
      "widgetType": "text",
      "defaultValue": "",
      "label": null,
      "name": "sr_proceso",
      "options": {
       "widgetType": "text",
       "autoCreated": null,
       "validationRegex": null
      }
     }
    },
    "sr_reproceso": {
     "currentValue": "3",
     "nuid": "9cdcd437-32bb-41b0-b841-c8b09cfa20e6",
     "typedWidgetInfo": {
      "autoCreated": false,
      "defaultValue": "",
      "label": null,
      "name": "sr_reproceso",
      "options": {
       "widgetDisplayType": "Text",
       "validationRegex": null
      },
      "parameterDataType": "String"
     },
     "widgetInfo": {
      "widgetType": "text",
      "defaultValue": "",
      "label": null,
      "name": "sr_reproceso",
      "options": {
       "widgetType": "text",
       "autoCreated": null,
       "validationRegex": null
      }
     }
    },
    "sr_subetapa": {
     "currentValue": "273",
     "nuid": "1d11e749-741f-4b34-b2d2-0bccd5395587",
     "typedWidgetInfo": {
      "autoCreated": false,
      "defaultValue": "",
      "label": null,
      "name": "sr_subetapa",
      "options": {
       "widgetDisplayType": "Text",
       "validationRegex": null
      },
      "parameterDataType": "String"
     },
     "widgetInfo": {
      "widgetType": "text",
      "defaultValue": "",
      "label": null,
      "name": "sr_subetapa",
      "options": {
       "widgetType": "text",
       "autoCreated": null,
       "validationRegex": null
      }
     }
    },
    "sr_subproceso": {
     "currentValue": "8",
     "nuid": "e7a2db61-ea45-486f-a018-0d034c48e9b0",
     "typedWidgetInfo": {
      "autoCreated": false,
      "defaultValue": "",
      "label": null,
      "name": "sr_subproceso",
      "options": {
       "widgetDisplayType": "Text",
       "validationRegex": null
      },
      "parameterDataType": "String"
     },
     "widgetInfo": {
      "widgetType": "text",
      "defaultValue": "",
      "label": null,
      "name": "sr_subproceso",
      "options": {
       "widgetType": "text",
       "autoCreated": null,
       "validationRegex": null
      }
     }
    },
    "sr_tipo_mov": {
     "currentValue": "2",
     "nuid": "836824df-34a3-4549-8faa-fed04b85036c",
     "typedWidgetInfo": {
      "autoCreated": false,
      "defaultValue": "",
      "label": null,
      "name": "sr_tipo_mov",
      "options": {
       "widgetDisplayType": "Text",
       "validationRegex": null
      },
      "parameterDataType": "String"
     },
     "widgetInfo": {
      "widgetType": "text",
      "defaultValue": "",
      "label": null,
      "name": "sr_tipo_mov",
      "options": {
       "widgetType": "text",
       "autoCreated": null,
       "validationRegex": null
      }
     }
    },
    "sr_usuario": {
     "currentValue": "1",
     "nuid": "730b59f2-ea7a-4039-9c96-f6d572400281",
     "typedWidgetInfo": {
      "autoCreated": false,
      "defaultValue": "",
      "label": null,
      "name": "sr_usuario",
      "options": {
       "widgetDisplayType": "Text",
       "validationRegex": null
      },
      "parameterDataType": "String"
     },
     "widgetInfo": {
      "widgetType": "text",
      "defaultValue": "",
      "label": null,
      "name": "sr_usuario",
      "options": {
       "widgetType": "text",
       "autoCreated": null,
       "validationRegex": null
      }
     }
    }
   }
  },
  "kernelspec": {
   "display_name": ".env",
   "language": "python",
   "name": "python3"
  },
  "language_info": {
   "name": "python"
  }
 },
 "nbformat": 4,
 "nbformat_minor": 0
}
