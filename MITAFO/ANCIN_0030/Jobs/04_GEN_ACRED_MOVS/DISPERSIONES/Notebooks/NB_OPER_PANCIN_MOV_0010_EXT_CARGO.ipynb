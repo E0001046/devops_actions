{
 "cells": [
  {
   "cell_type": "code",
   "execution_count": 0,
   "metadata": {
    "application/vnd.databricks.v1+cell": {
     "cellMetadata": {
      "byteLimit": 2048000,
      "rowLimit": 10000
     },
     "collapsed": true,
     "inputWidgets": {},
     "nuid": "69bf3750-5226-4188-9e99-79e1e216ab4f",
     "showTitle": false,
     "tableResultSettingsMap": {},
     "title": ""
    }
   },
   "outputs": [],
   "source": [
    "%load_ext autoreload\n",
    "%autoreload 2\n",
    "%reload_ext autoreload\n",
    "import sys\n",
    "import configparser\n",
    "import logging\n",
    "import inspect\n",
    "from pyspark.sql.functions import count, lit, current_timestamp\n",
    "from pyspark.sql import SparkSession\n",
    "from pyspark.sql.functions import col\n",
    "from pyspark.sql.types import IntegerType, StringType\n",
    "\n",
    "# Configuración del logger\n",
    "logging.getLogger().setLevel(logging.INFO)\n",
    "logger = logging.getLogger(\"py4j\")\n",
    "logger.setLevel(logging.WARN)\n",
    "logger = logging.getLogger(__name__)\n",
    "\n",
    "prod = True  # Para setear paths\n",
    "\n",
    "# Variables globales\n",
    "\n",
    "root_repo = \"/Workspace/Shared/MITAFO\"\n",
    "config_files = {\n",
    "    \"general\": f\"{root_repo}/CGRLS_0010/Conf/CF_GRLS_PROCESS.py.properties\",\n",
    "    \"connection\": f\"{root_repo}/CGRLS_0010/Conf/CF_GRLS_CONN.py.properties\",\n",
    "    \"process\": f\"{root_repo}/ANCIN_0030/Jobs/04_GEN_ACRED_MOVS/DISPERSIONES/Conf/CF_PART_PROC.py.properties\"\n",
    "    if prod\n",
    "    else \"/Workspace/Repos/mronboye@emeal.nttdata.com/QueryConfigLab.ide/\"\n",
    "    \"MITAFO/ANCIN_0030/Jobs/04_GEN_ACRED_MOVS/\"\n",
    "    \"DISPERSIONES/Conf/\"\n",
    "    \"CF_PART_PROC.py.properties\",\n",
    "}\n",
    "\n",
    "notebook_name = (\n",
    "    dbutils.notebook.entry_point.getDbutils()\n",
    "    .notebook()\n",
    "    .getContext()\n",
    "    .notebookPath()\n",
    "    .get()\n",
    ")\n",
    "message = \"NB Error: \" + notebook_name\n",
    "source = \"ETL\"\n",
    "\n",
    "process_name = \"root\"\n",
    "\n",
    "# Carga de funciones externas\n",
    "sys.path.append(f\"{root_repo}/CGRLS_0010/Notebooks\")\n",
    "try:\n",
    "    from NB_GRLS_DML_FUNCTIONS import *\n",
    "    from NB_GRLS_SIMPLE_FUNCTIONS import *\n",
    "except Exception as e:\n",
    "    logger.error(\"Error al cargar funciones externas: %s\", e)\n",
    "\n",
    "global_params = {}\n",
    "global_confs = {}  # Diccionario para almacenar las keys globales\n",
    "\n",
    "\n",
    "def input_values() -> dict:\n",
    "    \"\"\"Obtiene los valores de los widgets de entrada y los almacena en un diccionario global.\"\"\"\n",
    "\n",
    "    widget_defaults = {\n",
    "        \"SR_FOLIO_REL\": \"\",\n",
    "        \"SR_PROCESO\": \"\",\n",
    "        \"SR_FECHA_LIQ\": \"\",\n",
    "        \"SR_TIPO_MOV\": \"\",\n",
    "        \"SR_REPROCESO\": \"\",\n",
    "        \"SR_SUBPROCESO\": \"\",\n",
    "        \"SR_USUARIO\": \"\",\n",
    "        \"SR_INSTANCIA_PROCESO\": \"\",\n",
    "        \"SR_ORIGEN_ARC\": \"\",\n",
    "        \"SR_ID_SNAPSHOT\": \"\",\n",
    "        \"SR_FECHA_ACC\": \"\",\n",
    "        \"SR_FOLIO\": \"\",\n",
    "        \"SR_SUBETAPA\": \"\",\n",
    "        \"SR_FACTOR\": \"\",\n",
    "        \"CX_CRE_ESQUEMA\": \"CIERREN_ETL\",\n",
    "        \"TL_CRE_DISPERSION\": \"TTSISGRAL_ETL_DISPERSION\",\n",
    "        \"SR_ETAPA\": \"\",\n",
    "    }\n",
    "\n",
    "    # Crear los widgets en minúsculas\n",
    "    for key, default_value in widget_defaults.items():\n",
    "        dbutils.widgets.text(key.lower(), default_value)\n",
    "\n",
    "    # Actualizar el diccionario global en mayúsculas para el resto del notebook\n",
    "    global_params.update(\n",
    "        {\n",
    "            key.upper(): dbutils.widgets.get(key.lower()).strip()\n",
    "            for key in widget_defaults\n",
    "        }\n",
    "    )\n",
    "\n",
    "    if any(not value for value in global_params.values()):\n",
    "        logger.error(\"Valores de entrada vacíos o nulos\")\n",
    "        global_params[\"status\"] = \"0\"\n",
    "    else:\n",
    "        global_params[\"status\"] = \"1\"\n",
    "\n",
    "    return global_params\n",
    "\n",
    "\n",
    "def conf_process_values(arg_config_file: str, arg_process_name: str) -> tuple:\n",
    "    \"\"\"Obtiene los valores de configuración del proceso y los almacena en un diccionario global.\"\"\"\n",
    "    keys = [\n",
    "        \"sql_conf_file\",\n",
    "        \"debug\",\n",
    "        \"conn_schema_001\",\n",
    "        \"conn_schema_002\",\n",
    "        \"table_001\",\n",
    "        \"table_002\",\n",
    "        \"table_003\",\n",
    "        \"table_004\",\n",
    "        \"table_005\",\n",
    "        \"table_006\",\n",
    "        \"table_007\",\n",
    "        \"table_008\",\n",
    "        \"table_009\",\n",
    "        \"table_010\",\n",
    "        \"table_011\",\n",
    "        \"catalog_name\",\n",
    "        \"schema_name\",\n",
    "    ]\n",
    "\n",
    "    try:\n",
    "        config = configparser.ConfigParser()\n",
    "        config.read(arg_config_file)\n",
    "        result = {key: config.get(arg_process_name, key) for key in keys}\n",
    "        result[\"status\"] = \"1\"\n",
    "        # Almacenar los valores en el diccionario global\n",
    "        global_confs.update(result)\n",
    "    except (ValueError, IOError) as error:\n",
    "        logger.error(\"Error en la función %s: %s\", inspect.stack()[0][3], error)\n",
    "        result = {key: \"0\" for key in keys}\n",
    "        result[\"status\"] = \"0\"\n",
    "        # Almacenar los valores en el diccionario global\n",
    "        global_confs.update(result)\n",
    "\n",
    "    return tuple(result.values())\n",
    "\n",
    "\n",
    "# Configuración del manejador global de excepciones\n",
    "def global_exception_handler(exc_type, exc_value, exc_traceback):\n",
    "    if issubclass(exc_type, KeyboardInterrupt):\n",
    "        # Permitir que KeyboardInterrupt se maneje normalmente\n",
    "        sys.__excepthook__(exc_type, exc_value, exc_traceback)\n",
    "        return\n",
    "\n",
    "    message = f\"Uncaught exception: {exc_value}\"\n",
    "    source = \"ETL\"\n",
    "    input_parameters = {}  # Puedes definir los parámetros relevantes aquí\n",
    "\n",
    "    # Registro del error y notificación\n",
    "    logger.error(\"Please review log messages\")\n",
    "    notification_raised(webhook_url, -1, message, source, input_parameters)\n",
    "    raise Exception(\"An error raised\")\n",
    "\n",
    "\n",
    "# Asigna el manejador de excepciones al hook global de sys\n",
    "sys.excepthook = global_exception_handler\n",
    "\n",
    "\n",
    "if __name__ == \"__main__\":\n",
    "    # Inicialización de variables\n",
    "    input_values()\n",
    "    if global_params[\"status\"] == \"0\":\n",
    "        logger.error(\"Revisar mensajes en los logs\")\n",
    "        notification_raised(webhook_url, -1, message, source, input_parameters)\n",
    "        raise Exception(\"Error en los valores de entrada, revisar logs\")\n",
    "\n",
    "    input_parameters = dbutils.widgets.getAll().items()\n",
    "\n",
    "    webhook_url, channel, failed_task = conf_init_values(\n",
    "        config_files[\"general\"], process_name, \"TEMP_PROCESS\"\n",
    "    )\n",
    "\n",
    "    if failed_task == \"0\":\n",
    "        logger.error(\"Please review log MESSAGEs\")\n",
    "        notification_raised(webhook_url, -1, message, source, input_parameters)\n",
    "        raise Exception(\"Process ends\")\n",
    "\n",
    "    process_name = \"root\"\n",
    "    conf_values = conf_process_values(config_files[\"process\"], process_name)\n",
    "    if conf_values[-1] == \"0\":\n",
    "        logger.error(\"Revisar mensajes en los logs\")\n",
    "        notification_raised(webhook_url, -1, message, source, input_parameters)\n",
    "        raise Exception(\"Error en la configuración del proceso, revisar logs\")\n",
    "\n",
    "    conn_name_ora = \"jdbc_oracle\"\n",
    "    (\n",
    "        conn_options,\n",
    "        conn_additional_options,\n",
    "        conn_user,\n",
    "        conn_key,\n",
    "        conn_url,\n",
    "        scope,\n",
    "        failed_task,\n",
    "    ) = conf_conn_values(config_files[\"connection\"], conn_name_ora)\n",
    "    if failed_task == \"0\":\n",
    "        logger.error(\"Revisar mensajes en los logs\")\n",
    "        notification_raised(webhook_url, -1, message, source, input_parameters)\n",
    "        raise Exception(\"Error en la configuración de la conexión, revisar logs\")\n",
    "\n",
    "    if prod:\n",
    "        sql_conf_file = f\"{root_repo}/ANCIN_0030/Jobs/04_GEN_ACRED_MOVS/DISPERSIONES/JSON/{conf_values[0]}\"\n",
    "    else:\n",
    "        sql_conf_file = f\"/Workspace/Repos/mronboye@emeal.nttdata.com/QueryConfigLab.ide/MITAFO/ANCIN_0030/Jobs/04_GEN_ACRED_MOVS/DISPERSIONES/JSON/{conf_values[0]}\"\n",
    "\n",
    "    # Seteamos el valor de debug\n",
    "    debug = conf_values[1]\n",
    "    debug = debug.lower() == \"true\""
   ]
  },
  {
   "cell_type": "code",
   "execution_count": 0,
   "metadata": {
    "application/vnd.databricks.v1+cell": {
     "cellMetadata": {
      "byteLimit": 2048000,
      "rowLimit": 10000
     },
     "collapsed": true,
     "inputWidgets": {},
     "nuid": "22e8c571-169e-4669-984b-2e8ec639dacd",
     "showTitle": false,
     "tableResultSettingsMap": {},
     "title": ""
    }
   },
   "outputs": [],
   "source": [
    "with open(sql_conf_file) as f:\n",
    "    file_config_sql = json.load(f)\n",
    "\n",
    "conf_values = [\n",
    "    (fields[\"step_id\"], \"\\n\".join(fields[\"value\"]))\n",
    "    for line, value in file_config_sql.items()\n",
    "    if line == \"steps\"\n",
    "    for fields in value\n",
    "]"
   ]
  },
  {
   "cell_type": "markdown",
   "metadata": {
    "application/vnd.databricks.v1+cell": {
     "cellMetadata": {
      "byteLimit": 2048000,
      "rowLimit": 10000
     },
     "inputWidgets": {},
     "nuid": "04e4d72d-7276-4256-8225-4c09365bbe2e",
     "showTitle": false,
     "tableResultSettingsMap": {},
     "title": ""
    }
   },
   "source": [
    "### Hacemos un query que tiene multiples extracciones y transformaciones en OCI"
   ]
  },
  {
   "cell_type": "code",
   "execution_count": 0,
   "metadata": {
    "application/vnd.databricks.v1+cell": {
     "cellMetadata": {
      "byteLimit": 2048000,
      "rowLimit": 10000
     },
     "inputWidgets": {},
     "nuid": "173c0376-4d49-4124-8e17-6c1fc648bd83",
     "showTitle": false,
     "tableResultSettingsMap": {},
     "title": ""
    }
   },
   "outputs": [],
   "source": [
    "query_statement = \"009\"\n",
    "table_name_001 = f\"{global_confs['conn_schema_002']}.{global_confs['table_006']}\" # CIERREN.TRAFOGRAL_MOV_SUBCTA\n",
    "table_name_002 = f\"{global_confs['conn_schema_002']}.{global_confs['table_007']}\" # CIERREN.TTAFOGRAL_MATRIZ_CONVIVENCIA\n",
    "table_name_003 = f\"{global_confs['conn_schema_002']}.{global_confs['table_008']}\" # CIERREN.TFAFOGRAL_CONFIG_CONCEP_MOV\n",
    "table_name_004 = f\"{global_confs['conn_schema_001']}.{global_confs['table_010']}\" # CIERREN_ETL.TTSISGRAL_ETL_DISPERSION\n",
    "table_name_005 = f\"{global_confs['conn_schema_002']}.{global_confs['table_009']}\" # CIERREN.TCAFOGRAL_VALOR_ACCION\n",
    "\n",
    "params = [\n",
    "    global_params[\"CX_CRE_ESQUEMA\"],\n",
    "    global_params[\"TL_CRE_DISPERSION\"],\n",
    "    table_name_001,\n",
    "    table_name_002,\n",
    "    table_name_003,\n",
    "    global_params[\"SR_FOLIO\"],\n",
    "    global_params[\"SR_ETAPA\"],\n",
    "    global_params[\"SR_FOLIO_REL\"],\n",
    "    table_name_004,\n",
    "    table_name_005,\n",
    "    global_params[\"SR_FECHA_ACC\"],\n",
    "]\n",
    "\n",
    "statement, failed_task = getting_statement(conf_values, query_statement, params)\n",
    "\n",
    "if failed_task == \"0\":\n",
    "    logger.error(\"No value %s found\", statement)\n",
    "    logger.error(\"Please review log messages\")\n",
    "    notification_raised(webhook_url, -1, message, source, global_params)\n",
    "    raise Exception(\"Process ends\")\n",
    "\n",
    "# Ensure the statement is correctly formatted with the parameters\n",
    "formatted_statement = statement.format(*params)\n",
    "\n",
    "DF_100_TTSISGRAL_ETL_DISPERSION, failed_task = query_table(\n",
    "    conn_name_ora, spark, formatted_statement, conn_options, conn_user, conn_key\n",
    ")\n",
    "\n",
    "# Inserto DF_100_CRE_ETL_DISPERSION al cache\n",
    "DF_100_TTSISGRAL_ETL_DISPERSION.cache()\n",
    "\n",
    "if failed_task == \"0\":\n",
    "    logger.error(\"Please review log messages\")\n",
    "    notification_raised(webhook_url, -1, message, source, input_parameters)\n",
    "    raise Exception(\"An error raised\")\n",
    "\n",
    "if debug:\n",
    "    display(DF_100_TTSISGRAL_ETL_DISPERSION)"
   ]
  },
  {
   "cell_type": "code",
   "execution_count": 0,
   "metadata": {
    "application/vnd.databricks.v1+cell": {
     "cellMetadata": {
      "byteLimit": 2048000,
      "rowLimit": 10000
     },
     "collapsed": true,
     "inputWidgets": {},
     "nuid": "1889292b-3de2-4885-b5b2-5b327e8b6d97",
     "showTitle": true,
     "tableResultSettingsMap": {},
     "title": "DEV / TESTING / SUPPORT"
    }
   },
   "outputs": [],
   "source": [
    "# if debug:\n",
    "#     from pyspark.sql import Row\n",
    "\n",
    "#     first_record = DF_100_TTSISGRAL_ETL_DISPERSION.head(1)\n",
    "\n",
    "#     if not first_record:\n",
    "#         # Crear una lista de Rows con los datos estáticos\n",
    "#         data = [\n",
    "#             Row(\n",
    "#                 TOTAL_ACCIONES=1000.50,\n",
    "#                 TOTAL_PESOS=2000.75,\n",
    "#                 FCN_ID_TIPO_SUBCTA=1,\n",
    "#                 FTC_FOLIO=f\"{global_params['SR_FOLIO']}\",\n",
    "#                 FTC_FOLIO_REL=f\"{global_params['SR_FOLIO_REL']}\",\n",
    "#                 FCN_ID_SIEFORE=101,\n",
    "#                 FTF_MONTO_PESOS=2000.75,\n",
    "#                 FTF_MONTO_ACCIONES=1000.50,\n",
    "#                 FCN_ID_VALOR_ACCION=10.25,\n",
    "#                 FTN_NUM_CTA_INVDUAL=\"NUM_CTA_1\",\n",
    "#                 FTN_ID_MARCA=1,\n",
    "#                 FTD_FEC_CRE=\"2024-01-01\",\n",
    "#                 FTC_USU_CRE=\"user1\",\n",
    "#                 FTD_FEC_ACT=\"2024-01-02\",\n",
    "#                 FTC_USU_ACT=\"user2\",\n",
    "#                 FFN_ID_CONCEPTO_MOV=637,\n",
    "#                 FTC_TABLA_NCI_MOV=\"VIV\",\n",
    "#                 FNN_ID_REFERENCIA=12345,\n",
    "#                 FCN_VALOR_ACCION=10.25,\n",
    "#                 FTN_DEDUCIBLE=0,\n",
    "#                 INSTITUTO=\"IMSS\",\n",
    "#             ),\n",
    "#             Row(\n",
    "#                 TOTAL_ACCIONES=1100.60,\n",
    "#                 TOTAL_PESOS=2100.85,\n",
    "#                 FCN_ID_TIPO_SUBCTA=2,\n",
    "#                 FTC_FOLIO=f\"{global_params['SR_FOLIO']}\",\n",
    "#                 FTC_FOLIO_REL=f\"{global_params['SR_FOLIO_REL']}\",\n",
    "#                 FCN_ID_SIEFORE=102,\n",
    "#                 FTF_MONTO_PESOS=2100.85,\n",
    "#                 FTF_MONTO_ACCIONES=1100.60,\n",
    "#                 FCN_ID_VALOR_ACCION=10.30,\n",
    "#                 FTN_NUM_CTA_INVDUAL=\"NUM_CTA_2\",\n",
    "#                 FTN_ID_MARCA=2,\n",
    "#                 FTD_FEC_CRE=\"2024-01-03\",\n",
    "#                 FTC_USU_CRE=\"user3\",\n",
    "#                 FTD_FEC_ACT=\"2024-01-04\",\n",
    "#                 FTC_USU_ACT=\"user4\",\n",
    "#                 FFN_ID_CONCEPTO_MOV=638,\n",
    "#                 FTC_TABLA_NCI_MOV=\"VIV\",\n",
    "#                 FNN_ID_REFERENCIA=12346,\n",
    "#                 FCN_VALOR_ACCION=10.30,\n",
    "#                 FTN_DEDUCIBLE=0,\n",
    "#                 INSTITUTO=\"ISSSTE\",\n",
    "#             ),\n",
    "#             Row(\n",
    "#                 TOTAL_ACCIONES=1200.70,\n",
    "#                 TOTAL_PESOS=2200.95,\n",
    "#                 FCN_ID_TIPO_SUBCTA=3,\n",
    "#                 FTC_FOLIO=f\"{global_params['SR_FOLIO']}\",\n",
    "#                 FTC_FOLIO_REL=f\"{global_params['SR_FOLIO_REL']}\",\n",
    "#                 FCN_ID_SIEFORE=103,\n",
    "#                 FTF_MONTO_PESOS=2200.95,\n",
    "#                 FTF_MONTO_ACCIONES=1200.70,\n",
    "#                 FCN_ID_VALOR_ACCION=10.35,\n",
    "#                 FTN_NUM_CTA_INVDUAL=\"NUM_CTA_3\",\n",
    "#                 FTN_ID_MARCA=3,\n",
    "#                 FTD_FEC_CRE=\"2024-01-05\",\n",
    "#                 FTC_USU_CRE=\"user5\",\n",
    "#                 FTD_FEC_ACT=\"2024-01-06\",\n",
    "#                 FTC_USU_ACT=\"user6\",\n",
    "#                 FFN_ID_CONCEPTO_MOV=1002,\n",
    "#                 FTC_TABLA_NCI_MOV=\"VIV\",\n",
    "#                 FNN_ID_REFERENCIA=12347,\n",
    "#                 FCN_VALOR_ACCION=10.35,\n",
    "#                 FTN_DEDUCIBLE=1,\n",
    "#                 INSTITUTO=\"IMSS\",\n",
    "#             ),\n",
    "#             Row(\n",
    "#                 TOTAL_ACCIONES=1300.80,\n",
    "#                 TOTAL_PESOS=2301.05,\n",
    "#                 FCN_ID_TIPO_SUBCTA=4,\n",
    "#                 FTC_FOLIO=f\"{global_params['SR_FOLIO']}\",\n",
    "#                 FTC_FOLIO_REL=f\"{global_params['SR_FOLIO_REL']}\",\n",
    "#                 FCN_ID_SIEFORE=104,\n",
    "#                 FTF_MONTO_PESOS=2301.05,\n",
    "#                 FTF_MONTO_ACCIONES=1300.80,\n",
    "#                 FCN_ID_VALOR_ACCION=10.40,\n",
    "#                 FTN_NUM_CTA_INVDUAL=\"NUM_CTA_4\",\n",
    "#                 FTN_ID_MARCA=4,\n",
    "#                 FTD_FEC_CRE=\"2024-01-07\",\n",
    "#                 FTC_USU_CRE=\"user7\",\n",
    "#                 FTD_FEC_ACT=\"2024-01-08\",\n",
    "#                 FTC_USU_ACT=\"user8\",\n",
    "#                 FFN_ID_CONCEPTO_MOV=1003,\n",
    "#                 FTC_TABLA_NCI_MOV=\"VIV\",\n",
    "#                 FNN_ID_REFERENCIA=12348,\n",
    "#                 FCN_VALOR_ACCION=10.40,\n",
    "#                 FTN_DEDUCIBLE=1,\n",
    "#                 INSTITUTO=\"ISSSTE\",\n",
    "#             ),\n",
    "#             Row(\n",
    "#                 TOTAL_ACCIONES=1400.90,\n",
    "#                 TOTAL_PESOS=2401.15,\n",
    "#                 FCN_ID_TIPO_SUBCTA=5,\n",
    "#                 FTC_FOLIO=f\"{global_params['SR_FOLIO']}\",\n",
    "#                 FTC_FOLIO_REL=f\"{global_params['SR_FOLIO_REL']}\",\n",
    "#                 FCN_ID_SIEFORE=105,\n",
    "#                 FTF_MONTO_PESOS=2401.15,\n",
    "#                 FTF_MONTO_ACCIONES=1400.90,\n",
    "#                 FCN_ID_VALOR_ACCION=10.45,\n",
    "#                 FTN_NUM_CTA_INVDUAL=\"NUM_CTA_5\",\n",
    "#                 FTN_ID_MARCA=5,\n",
    "#                 FTD_FEC_CRE=\"2024-01-09\",\n",
    "#                 FTC_USU_CRE=\"user9\",\n",
    "#                 FTD_FEC_ACT=\"2024-01-10\",\n",
    "#                 FTC_USU_ACT=\"user10\",\n",
    "#                 FFN_ID_CONCEPTO_MOV=231,\n",
    "#                 FTC_TABLA_NCI_MOV=\"VIV\",\n",
    "#                 FNN_ID_REFERENCIA=12349,\n",
    "#                 FCN_VALOR_ACCION=10.45,\n",
    "#                 FTN_DEDUCIBLE=0,\n",
    "#                 INSTITUTO=\"IMSS\",\n",
    "#             ),\n",
    "#             Row(\n",
    "#                 TOTAL_ACCIONES=1500.00,\n",
    "#                 TOTAL_PESOS=2501.25,\n",
    "#                 FCN_ID_TIPO_SUBCTA=6,\n",
    "#                 FTC_FOLIO=f\"{global_params['SR_FOLIO']}\",\n",
    "#                 FTC_FOLIO_REL=f\"{global_params['SR_FOLIO_REL']}\",\n",
    "#                 FCN_ID_SIEFORE=106,\n",
    "#                 FTF_MONTO_PESOS=2501.25,\n",
    "#                 FTF_MONTO_ACCIONES=1500.00,\n",
    "#                 FCN_ID_VALOR_ACCION=10.50,\n",
    "#                 FTN_NUM_CTA_INVDUAL=\"NUM_CTA_6\",\n",
    "#                 FTN_ID_MARCA=6,\n",
    "#                 FTD_FEC_CRE=\"2024-01-11\",\n",
    "#                 FTC_USU_CRE=\"user11\",\n",
    "#                 FTD_FEC_ACT=\"2024-01-12\",\n",
    "#                 FTC_USU_ACT=\"user12\",\n",
    "#                 FFN_ID_CONCEPTO_MOV=637,\n",
    "#                 FTC_TABLA_NCI_MOV=\"VIV\",\n",
    "#                 FNN_ID_REFERENCIA=12350,\n",
    "#                 FCN_VALOR_ACCION=10.50,\n",
    "#                 FTN_DEDUCIBLE=1,\n",
    "#                 INSTITUTO=\"ISSSTE\",\n",
    "#             ),\n",
    "#             Row(\n",
    "#                 TOTAL_ACCIONES=1600.10,\n",
    "#                 TOTAL_PESOS=2601.35,\n",
    "#                 FCN_ID_TIPO_SUBCTA=7,\n",
    "#                 FTC_FOLIO=f\"{global_params['SR_FOLIO']}\",\n",
    "#                 FTC_FOLIO_REL=f\"{global_params['SR_FOLIO_REL']}\",\n",
    "#                 FCN_ID_SIEFORE=107,\n",
    "#                 FTF_MONTO_PESOS=2601.35,\n",
    "#                 FTF_MONTO_ACCIONES=1600.10,\n",
    "#                 FCN_ID_VALOR_ACCION=10.55,\n",
    "#                 FTN_NUM_CTA_INVDUAL=\"NUM_CTA_7\",\n",
    "#                 FTN_ID_MARCA=7,\n",
    "#                 FTD_FEC_CRE=\"2024-01-13\",\n",
    "#                 FTC_USU_CRE=\"user13\",\n",
    "#                 FTD_FEC_ACT=\"2024-01-14\",\n",
    "#                 FTC_USU_ACT=\"user14\",\n",
    "#                 FFN_ID_CONCEPTO_MOV=638,\n",
    "#                 FTC_TABLA_NCI_MOV=\"VIV\",\n",
    "#                 FNN_ID_REFERENCIA=12351,\n",
    "#                 FCN_VALOR_ACCION=10.55,\n",
    "#                 FTN_DEDUCIBLE=0,\n",
    "#                 INSTITUTO=\"IMSS\",\n",
    "#             ),\n",
    "#             Row(\n",
    "#                 TOTAL_ACCIONES=1700.20,\n",
    "#                 TOTAL_PESOS=2701.45,\n",
    "#                 FCN_ID_TIPO_SUBCTA=8,\n",
    "#                 FTC_FOLIO=f\"{global_params['SR_FOLIO']}\",\n",
    "#                 FTC_FOLIO_REL=f\"{global_params['SR_FOLIO_REL']}\",\n",
    "#                 FCN_ID_SIEFORE=108,\n",
    "#                 FTF_MONTO_PESOS=2701.45,\n",
    "#                 FTF_MONTO_ACCIONES=1700.20,\n",
    "#                 FCN_ID_VALOR_ACCION=10.60,\n",
    "#                 FTN_NUM_CTA_INVDUAL=\"NUM_CTA_8\",\n",
    "#                 FTN_ID_MARCA=8,\n",
    "#                 FTD_FEC_CRE=\"2024-01-15\",\n",
    "#                 FTC_USU_CRE=\"user15\",\n",
    "#                 FTD_FEC_ACT=\"2024-01-16\",\n",
    "#                 FTC_USU_ACT=\"user16\",\n",
    "#                 FFN_ID_CONCEPTO_MOV=1002,\n",
    "#                 FTC_TABLA_NCI_MOV=\"VIV\",\n",
    "#                 FNN_ID_REFERENCIA=12352,\n",
    "#                 FCN_VALOR_ACCION=10.60,\n",
    "#                 FTN_DEDUCIBLE=1,\n",
    "#                 INSTITUTO=\"ISSSTE\",\n",
    "#             ),\n",
    "#             Row(\n",
    "#                 TOTAL_ACCIONES=1800.30,\n",
    "#                 TOTAL_PESOS=2801.55,\n",
    "#                 FCN_ID_TIPO_SUBCTA=9,\n",
    "#                 FTC_FOLIO=f\"{global_params['SR_FOLIO']}\",\n",
    "#                 FTC_FOLIO_REL=f\"{global_params['SR_FOLIO_REL']}\",\n",
    "#                 FCN_ID_SIEFORE=109,\n",
    "#                 FTF_MONTO_PESOS=2801.55,\n",
    "#                 FTF_MONTO_ACCIONES=1800.30,\n",
    "#                 FCN_ID_VALOR_ACCION=10.65,\n",
    "#                 FTN_NUM_CTA_INVDUAL=\"NUM_CTA_9\",\n",
    "#                 FTN_ID_MARCA=9,\n",
    "#                 FTD_FEC_CRE=\"2024-01-17\",\n",
    "#                 FTC_USU_CRE=\"user17\",\n",
    "#                 FTD_FEC_ACT=\"2024-01-18\",\n",
    "#                 FTC_USU_ACT=\"user18\",\n",
    "#                 FFN_ID_CONCEPTO_MOV=1003,\n",
    "#                 FTC_TABLA_NCI_MOV=\"VIV\",\n",
    "#                 FNN_ID_REFERENCIA=12353,\n",
    "#                 FCN_VALOR_ACCION=10.65,\n",
    "#                 FTN_DEDUCIBLE=0,\n",
    "#                 INSTITUTO=\"IMSS\",\n",
    "#             ),\n",
    "#             Row(\n",
    "#                 TOTAL_ACCIONES=1900.40,\n",
    "#                 TOTAL_PESOS=2901.65,\n",
    "#                 FCN_ID_TIPO_SUBCTA=10,\n",
    "#                 FTC_FOLIO=f\"{global_params['SR_FOLIO']}\",\n",
    "#                 FTC_FOLIO_REL=f\"{global_params['SR_FOLIO_REL']}\",\n",
    "#                 FCN_ID_SIEFORE=110,\n",
    "#                 FTF_MONTO_PESOS=2901.65,\n",
    "#                 FTF_MONTO_ACCIONES=1900.40,\n",
    "#                 FCN_ID_VALOR_ACCION=10.70,\n",
    "#                 FTN_NUM_CTA_INVDUAL=\"NUM_CTA_10\",\n",
    "#                 FTN_ID_MARCA=10,\n",
    "#                 FTD_FEC_CRE=\"2024-01-19\",\n",
    "#                 FTC_USU_CRE=\"user19\",\n",
    "#                 FTD_FEC_ACT=\"2024-01-20\",\n",
    "#                 FTC_USU_ACT=\"user20\",\n",
    "#                 FFN_ID_CONCEPTO_MOV=231,\n",
    "#                 FTC_TABLA_NCI_MOV=\"VIV\",\n",
    "#                 FNN_ID_REFERENCIA=12354,\n",
    "#                 FCN_VALOR_ACCION=10.70,\n",
    "#                 FTN_DEDUCIBLE=1,\n",
    "#                 INSTITUTO=\"ISSSTE\",\n",
    "#             ),\n",
    "#         ]\n",
    "\n",
    "#         # Crear el DataFrame\n",
    "#         DF_100_TTSISGRAL_ETL_DISPERSION = spark.createDataFrame(data)\n",
    "\n",
    "#         # Mostrar el DataFrame\n",
    "#         display(DF_100_TTSISGRAL_ETL_DISPERSION)"
   ]
  },
  {
   "cell_type": "markdown",
   "metadata": {
    "application/vnd.databricks.v1+cell": {
     "cellMetadata": {
      "byteLimit": 2048000,
      "rowLimit": 10000
     },
     "inputWidgets": {},
     "nuid": "cc5ddda9-bed3-43f8-97a6-d016380798e6",
     "showTitle": false,
     "tableResultSettingsMap": {},
     "title": ""
    }
   },
   "source": [
    "### Hacemos un query que tiene multiples extracciones y transformaciones en OCI"
   ]
  },
  {
   "cell_type": "code",
   "execution_count": 0,
   "metadata": {
    "application/vnd.databricks.v1+cell": {
     "cellMetadata": {
      "byteLimit": 2048000,
      "rowLimit": 10000
     },
     "inputWidgets": {},
     "nuid": "86058697-1a2c-4daf-879a-b1894ff7eb6d",
     "showTitle": false,
     "tableResultSettingsMap": {},
     "title": ""
    }
   },
   "outputs": [],
   "source": [
    "query_statement = \"010\"\n",
    "table_name_001 = f\"{global_confs['conn_schema_002']}.{global_confs['table_006']}\" # CIERREN.TRAFOGRAL_MOV_SUBCTA\n",
    "table_name_002 = f\"{global_confs['conn_schema_002']}.{global_confs['table_007']}\" # CIERREN.TTAFOGRAL_MATRIZ_CONVIVENCIA\n",
    "table_name_003 = f\"{global_confs['conn_schema_002']}.{global_confs['table_008']}\" # CIERREN.TFAFOGRAL_CONFIG_CONCEP_MOV\n",
    "table_name_004 = f\"{global_confs['conn_schema_001']}.{global_confs['table_010']}\" # CIERREN_ETL.TTSISGRAL_ETL_DISPERSION\n",
    "table_name_005 = f\"{global_confs['conn_schema_002']}.{global_confs['table_009']}\" # CIERREN.TCAFOGRAL_VALOR_ACCION\n",
    "table_name_006 = f\"{global_confs['conn_schema_002']}.{global_confs['table_011']}\" # CIERREN.TTAFOGRAL_BALANCE_MOVS\n",
    "\n",
    "params = [\n",
    "    table_name_006,\n",
    "    table_name_004,\n",
    "    table_name_001,\n",
    "    table_name_002,\n",
    "    table_name_003,\n",
    "    global_params[\"SR_FOLIO\"],\n",
    "    global_params[\"SR_ETAPA\"],\n",
    "    global_params[\"SR_FOLIO_REL\"],\n",
    "]\n",
    "\n",
    "statement, failed_task = getting_statement(conf_values, query_statement, params)\n",
    "\n",
    "if failed_task == \"0\":\n",
    "    logger.error(\"No value %s found\", statement)\n",
    "    logger.error(\"Please review log messages\")\n",
    "    notification_raised(webhook_url, -1, message, source, global_params)\n",
    "    raise Exception(\"Process ends\")\n",
    "\n",
    "# Ensure the statement is correctly formatted with the parameters\n",
    "formatted_statement = statement.format(*params)\n",
    "\n",
    "DF_300_TTAFOGRAL_BALANCE_MOVS, failed_task = query_table(\n",
    "    conn_name_ora, spark, formatted_statement, conn_options, conn_user, conn_key\n",
    ")\n",
    "\n",
    "# Inserto DF_100_CRE_ETL_DISPERSION al cache\n",
    "DF_300_TTAFOGRAL_BALANCE_MOVS.cache()\n",
    "\n",
    "if failed_task == \"0\":\n",
    "    logger.error(\"Please review log messages\")\n",
    "    notification_raised(webhook_url, -1, message, source, input_parameters)\n",
    "    raise Exception(\"An error raised\")\n",
    "\n",
    "if debug:\n",
    "    display(DF_300_TTAFOGRAL_BALANCE_MOVS)"
   ]
  },
  {
   "cell_type": "code",
   "execution_count": 0,
   "metadata": {
    "application/vnd.databricks.v1+cell": {
     "cellMetadata": {
      "byteLimit": 2048000,
      "rowLimit": 10000
     },
     "collapsed": true,
     "inputWidgets": {},
     "nuid": "6cc25d5f-4f1c-480d-af73-f261185feb0e",
     "showTitle": false,
     "tableResultSettingsMap": {},
     "title": ""
    }
   },
   "outputs": [],
   "source": [
    "# if debug:\n",
    "#     from pyspark.sql import Row\n",
    "\n",
    "#     first_record = DF_300_TTAFOGRAL_BALANCE_MOVS.head(1)\n",
    "\n",
    "#     if not first_record:\n",
    "#         # Crear una lista de Rows con los datos estáticos\n",
    "#         data = [\n",
    "#             Row(\n",
    "#                 FTN_NUM_CTA_INVDUAL=\"NUM_CTA_1\",\n",
    "#                 FCN_ID_TIPO_SUBCTA=1,\n",
    "#                 FCN_ID_SIEFORE=101,\n",
    "#                 FTN_DEDUCIBLE=0,\n",
    "#                 FTN_DISP_PESOS=2000.75,\n",
    "#                 FTN_DISP_ACCIONES=1000.50,\n",
    "#                 FCN_ID_PLAZO=1000,  # Sin plazo\n",
    "#             ),\n",
    "#             Row(\n",
    "#                 FTN_NUM_CTA_INVDUAL=\"NUM_CTA_2\",\n",
    "#                 FCN_ID_TIPO_SUBCTA=2,\n",
    "#                 FCN_ID_SIEFORE=102,\n",
    "#                 FTN_DEDUCIBLE=0,\n",
    "#                 FTN_DISP_PESOS=2100.85,\n",
    "#                 FTN_DISP_ACCIONES=1100.60,\n",
    "#                 FCN_ID_PLAZO=12,\n",
    "#             ),\n",
    "#             Row(\n",
    "#                 FTN_NUM_CTA_INVDUAL=\"NUM_CTA_3\",\n",
    "#                 FCN_ID_TIPO_SUBCTA=3,\n",
    "#                 FCN_ID_SIEFORE=103,\n",
    "#                 FTN_DEDUCIBLE=1,\n",
    "#                 FTN_DISP_PESOS=2200.95,\n",
    "#                 FTN_DISP_ACCIONES=1200.70,\n",
    "#                 FCN_ID_PLAZO=1000,  # Sin plazo\n",
    "#             ),\n",
    "#             Row(\n",
    "#                 FTN_NUM_CTA_INVDUAL=\"NUM_CTA_4\",\n",
    "#                 FCN_ID_TIPO_SUBCTA=4,\n",
    "#                 FCN_ID_SIEFORE=104,\n",
    "#                 FTN_DEDUCIBLE=1,\n",
    "#                 FTN_DISP_PESOS=2301.05,\n",
    "#                 FTN_DISP_ACCIONES=1300.80,\n",
    "#                 FCN_ID_PLAZO=24,\n",
    "#             ),\n",
    "#             Row(\n",
    "#                 FTN_NUM_CTA_INVDUAL=\"NUM_CTA_5\",\n",
    "#                 FCN_ID_TIPO_SUBCTA=5,\n",
    "#                 FCN_ID_SIEFORE=105,\n",
    "#                 FTN_DEDUCIBLE=0,\n",
    "#                 FTN_DISP_PESOS=2401.15,\n",
    "#                 FTN_DISP_ACCIONES=1400.90,\n",
    "#                 FCN_ID_PLAZO=1000,  # Sin plazo\n",
    "#             ),\n",
    "#             Row(\n",
    "#                 FTN_NUM_CTA_INVDUAL=\"NUM_CTA_6\",\n",
    "#                 FCN_ID_TIPO_SUBCTA=6,\n",
    "#                 FCN_ID_SIEFORE=106,\n",
    "#                 FTN_DEDUCIBLE=1,\n",
    "#                 FTN_DISP_PESOS=2501.25,\n",
    "#                 FTN_DISP_ACCIONES=1500.00,\n",
    "#                 FCN_ID_PLAZO=36,\n",
    "#             ),\n",
    "#             Row(\n",
    "#                 FTN_NUM_CTA_INVDUAL=\"NUM_CTA_7\",\n",
    "#                 FCN_ID_TIPO_SUBCTA=7,\n",
    "#                 FCN_ID_SIEFORE=107,\n",
    "#                 FTN_DEDUCIBLE=0,\n",
    "#                 FTN_DISP_PESOS=2601.35,\n",
    "#                 FTN_DISP_ACCIONES=1600.10,\n",
    "#                 FCN_ID_PLAZO=1000,  # Sin plazo\n",
    "#             ),\n",
    "#             Row(\n",
    "#                 FTN_NUM_CTA_INVDUAL=\"NUM_CTA_8\",\n",
    "#                 FCN_ID_TIPO_SUBCTA=8,\n",
    "#                 FCN_ID_SIEFORE=108,\n",
    "#                 FTN_DEDUCIBLE=1,\n",
    "#                 FTN_DISP_PESOS=2701.45,\n",
    "#                 FTN_DISP_ACCIONES=1700.20,\n",
    "#                 FCN_ID_PLAZO=48,\n",
    "#             ),\n",
    "#             Row(\n",
    "#                 FTN_NUM_CTA_INVDUAL=\"NUM_CTA_9\",\n",
    "#                 FCN_ID_TIPO_SUBCTA=9,\n",
    "#                 FCN_ID_SIEFORE=109,\n",
    "#                 FTN_DEDUCIBLE=0,\n",
    "#                 FTN_DISP_PESOS=2801.55,\n",
    "#                 FTN_DISP_ACCIONES=1800.30,\n",
    "#                 FCN_ID_PLAZO=1000,  # Sin plazo\n",
    "#             ),\n",
    "#             Row(\n",
    "#                 FTN_NUM_CTA_INVDUAL=\"NUM_CTA_10\",\n",
    "#                 FCN_ID_TIPO_SUBCTA=10,\n",
    "#                 FCN_ID_SIEFORE=110,\n",
    "#                 FTN_DEDUCIBLE=1,\n",
    "#                 FTN_DISP_PESOS=2901.65,\n",
    "#                 FTN_DISP_ACCIONES=1900.40,\n",
    "#                 FCN_ID_PLAZO=60,\n",
    "#             ),\n",
    "#         ]\n",
    "\n",
    "#         # Crear el DataFrame\n",
    "#         DF_300_TTAFOGRAL_BALANCE_MOVS = spark.createDataFrame(data)\n",
    "\n",
    "#         # Mostrar el DataFrame\n",
    "#         display(DF_300_TTAFOGRAL_BALANCE_MOVS)"
   ]
  },
  {
   "cell_type": "markdown",
   "metadata": {
    "application/vnd.databricks.v1+cell": {
     "cellMetadata": {
      "byteLimit": 2048000,
      "rowLimit": 10000
     },
     "inputWidgets": {},
     "nuid": "0bdabe61-d414-466a-b95a-6b7f71a9dbed",
     "showTitle": false,
     "tableResultSettingsMap": {},
     "title": ""
    }
   },
   "source": [
    "### - hacemos un inner join de los DF anteriores por estas keys:\n",
    "    - FTN_NUM_CTA_INVDUAL\n",
    "    - FCN_ID_TIPO_SUBCTA\n",
    "    - FCN_ID_SIEFORE\n",
    "    - FTN_DEDUCIBLE"
   ]
  },
  {
   "cell_type": "code",
   "execution_count": 0,
   "metadata": {
    "application/vnd.databricks.v1+cell": {
     "cellMetadata": {
      "byteLimit": 2048000,
      "rowLimit": 10000
     },
     "inputWidgets": {},
     "nuid": "58157873-ac4e-412e-b2cf-455c5c42a694",
     "showTitle": false,
     "tableResultSettingsMap": {},
     "title": ""
    }
   },
   "outputs": [],
   "source": [
    "# Realiza el inner join basado en las claves especificadas\n",
    "DF_DISPERSION_01 = DF_100_TTSISGRAL_ETL_DISPERSION.join(\n",
    "    DF_300_TTAFOGRAL_BALANCE_MOVS,\n",
    "    on=[\"FTN_NUM_CTA_INVDUAL\", \"FCN_ID_TIPO_SUBCTA\", \"FCN_ID_SIEFORE\", \"FTN_DEDUCIBLE\"],\n",
    "    how=\"inner\"\n",
    ")\n",
    "\n",
    "# unpersist DF_300_TTAFOGRAL_BALANCE_MOVS y DF_100_TTSISGRAL_ETL_DISPERSION\n",
    "DF_300_TTAFOGRAL_BALANCE_MOVS.unpersist\n",
    "DF_100_TTSISGRAL_ETL_DISPERSION.unpersist\n",
    "del DF_300_TTAFOGRAL_BALANCE_MOVS, DF_100_TTSISGRAL_ETL_DISPERSION\n",
    "\n",
    "# insertamos DF_DISPERSION_01 al cache\n",
    "DF_DISPERSION_01.cache()\n",
    "\n",
    "if debug:\n",
    "    # Muestra el DataFrame resultante\n",
    "    display(DF_DISPERSION_01)\n"
   ]
  },
  {
   "cell_type": "markdown",
   "metadata": {
    "application/vnd.databricks.v1+cell": {
     "cellMetadata": {
      "byteLimit": 2048000,
      "rowLimit": 10000
     },
     "inputWidgets": {},
     "nuid": "840c2abb-bf1f-4845-8a0c-fd632faf5877",
     "showTitle": false,
     "tableResultSettingsMap": {},
     "title": ""
    }
   },
   "source": [
    "### Ahora calculo estas variables en base a los registros de `DF_DISPERSION_01`\n",
    "- MONTOIMSS = DecimalToDecimal(TOTAL_PESOS / FCN_VALOR_ACCION,\"round_inf\")\n",
    "- MONTOISSSTE = DecimalToDecimal(TOTAL_ACCIONES,\"round_inf\")"
   ]
  },
  {
   "cell_type": "code",
   "execution_count": 0,
   "metadata": {
    "application/vnd.databricks.v1+cell": {
     "cellMetadata": {
      "byteLimit": 2048000,
      "rowLimit": 10000
     },
     "inputWidgets": {},
     "nuid": "451b30f9-42ab-4847-bb1d-af7ce51995c7",
     "showTitle": false,
     "tableResultSettingsMap": {},
     "title": ""
    }
   },
   "outputs": [],
   "source": [
    "from pyspark.sql.functions import col, expr\n",
    "from pyspark.sql import functions as F\n",
    "from pyspark.sql.types import DoubleType\n",
    "\n",
    "# Función auxiliar para redondear decimal\n",
    "def DecimalToDecimal(value, round_type):\n",
    "    if round_type == \"round_inf\":\n",
    "        decimals = 2\n",
    "        factor = F.lit(\n",
    "            10**decimals\n",
    "        )  # Convertimos el factor en una constante de PySpark\n",
    "        return F.floor(value * factor) / factor\n",
    "    else:\n",
    "        return value\n",
    "\n",
    "\n",
    "# Calcula MONTOIMSS utilizando DecimalToDecimal\n",
    "DF_DISPERSION_01 = DF_DISPERSION_01.withColumn(\n",
    "    \"MONTOIMSS\",\n",
    "    F.round(\n",
    "        F.col(\"FTN_DISP_PESOS\").cast(DoubleType())\n",
    "        / F.col(\"FCN_VALOR_ACCION\").cast(DoubleType()),\n",
    "        10,\n",
    "    ),\n",
    ")\n",
    "\n",
    "# Calcula MONTOISSSTE utilizando DecimalToDecimal\n",
    "DF_DISPERSION_01 = DF_DISPERSION_01.withColumn(\n",
    "    \"MONTOISSSTE\", F.round(F.col(\"FTN_DISP_ACCIONES\"), 6)\n",
    ")\n",
    "\n",
    "if debug:\n",
    "    # Muestra el DataFrame resultante\n",
    "    display(DF_DISPERSION_01)"
   ]
  },
  {
   "cell_type": "markdown",
   "metadata": {
    "application/vnd.databricks.v1+cell": {
     "cellMetadata": {
      "byteLimit": 2048000,
      "rowLimit": 10000
     },
     "inputWidgets": {},
     "nuid": "b6227afd-cf4b-4fbd-81fe-43f468fcf589",
     "showTitle": false,
     "tableResultSettingsMap": {},
     "title": ""
    }
   },
   "source": [
    "### Aplicamos esta regla al campo FTN_ID_ERROR_VAL (Debemos generar este campo):\n",
    "```\n",
    "IF FTC_FOLIO = '201905070839030073' \n",
    "    AND (FTC_FOLIO_REL = '201905081314360765') \n",
    "THEN \n",
    "    SETNULL()\n",
    "ELSE\n",
    "    IF INSTITUTO = 'IMSS' \n",
    "    THEN\n",
    "        IF FTN_DISP_ACCIONES >= MONTOIMSS \n",
    "        THEN\n",
    "            SETNULL()\n",
    "        ELSE\n",
    "            SETNULL()\n",
    "    ELSE\n",
    "        IF INSTITUTO = 'ISSSTE' \n",
    "        THEN\n",
    "            IF FTN_DISP_ACCIONES >= MONTOISSSTE \n",
    "            THEN\n",
    "                SETNULL()\n",
    "            ELSE\n",
    "                283\n",
    "        ELSE \n",
    "            SETNULL()\n",
    "```\n"
   ]
  },
  {
   "cell_type": "code",
   "execution_count": 0,
   "metadata": {
    "application/vnd.databricks.v1+cell": {
     "cellMetadata": {
      "byteLimit": 2048000,
      "rowLimit": 10000
     },
     "inputWidgets": {},
     "nuid": "fa2693a4-95a3-44a2-b0ff-df7723819338",
     "showTitle": false,
     "tableResultSettingsMap": {},
     "title": ""
    }
   },
   "outputs": [],
   "source": [
    "from pyspark.sql.functions import when, col, lit\n",
    "\n",
    "# Aplicamos la regla para generar el campo FTN_ID_ERROR_VAL\n",
    "DF_DISPERSION_01 = DF_DISPERSION_01.withColumn(\n",
    "    \"FTN_ID_ERROR_VAL\",\n",
    "    when(\n",
    "        (col(\"FTC_FOLIO\") == '201905070839030073') & (col(\"FTC_FOLIO_REL\") == '201905081314360765'),\n",
    "        lit(None)  # SETNULL()\n",
    "    ).otherwise(\n",
    "        when(\n",
    "            col(\"INSTITUTO\") == 'IMSS',\n",
    "            when(col(\"FTN_DISP_ACCIONES\") >= col(\"MONTOIMSS\"), lit(None))  # SETNULL()\n",
    "            .otherwise(lit(None))  # SETNULL()\n",
    "        ).when(\n",
    "            col(\"INSTITUTO\") == 'ISSSTE',\n",
    "            when(col(\"FTN_DISP_ACCIONES\") >= col(\"MONTOISSSTE\"), lit(None))  # SETNULL()\n",
    "            .otherwise(lit(283))\n",
    "        ).otherwise(lit(None))  # SETNULL()\n",
    "    )\n",
    ")\n",
    "\n",
    "if debug:\n",
    "    # Muestra el DataFrame resultante\n",
    "    display(DF_DISPERSION_01)\n"
   ]
  },
  {
   "cell_type": "markdown",
   "metadata": {
    "application/vnd.databricks.v1+cell": {
     "cellMetadata": {
      "byteLimit": 2048000,
      "rowLimit": 10000
     },
     "inputWidgets": {},
     "nuid": "ba2f1961-4565-413f-9928-2a48a8e1bfa7",
     "showTitle": false,
     "tableResultSettingsMap": {},
     "title": ""
    }
   },
   "source": [
    "### Hacemos un select de solo los datos que ocupamos"
   ]
  },
  {
   "cell_type": "code",
   "execution_count": 0,
   "metadata": {
    "application/vnd.databricks.v1+cell": {
     "cellMetadata": {
      "byteLimit": 2048000,
      "rowLimit": 10000
     },
     "inputWidgets": {},
     "nuid": "ec102923-5882-40c5-af87-f5cf895df70b",
     "showTitle": false,
     "tableResultSettingsMap": {},
     "title": ""
    }
   },
   "outputs": [],
   "source": [
    "columns_to_select = [\n",
    "    \"FCN_ID_TIPO_SUBCTA\",\n",
    "    \"FTC_FOLIO\",\n",
    "    \"FCN_ID_SIEFORE\",\n",
    "    \"FTF_MONTO_PESOS\",\n",
    "    \"FTF_MONTO_ACCIONES\",\n",
    "    \"FTN_NUM_CTA_INVDUAL\",\n",
    "    \"FTD_FEC_CRE\",\n",
    "    \"FTC_USU_CRE\",\n",
    "    \"FTD_FEC_ACT\",\n",
    "    \"FTC_USU_ACT\",\n",
    "    \"FFN_ID_CONCEPTO_MOV\",\n",
    "    \"FTC_TABLA_NCI_MOV\",\n",
    "    \"FNN_ID_REFERENCIA\",\n",
    "    \"FCN_ID_VALOR_ACCION\",\n",
    "    \"FTN_ID_MARCA\",\n",
    "    \"FCN_VALOR_ACCION\",\n",
    "    \"FTC_FOLIO_REL\",\n",
    "    \"INSTITUTO\",\n",
    "    \"FTN_DEDUCIBLE\",\n",
    "    \"FTN_ID_ERROR_VAL\",\n",
    "    \"FCN_ID_PLAZO\"\n",
    "]\n"
   ]
  },
  {
   "cell_type": "code",
   "execution_count": 0,
   "metadata": {
    "application/vnd.databricks.v1+cell": {
     "cellMetadata": {
      "byteLimit": 2048000,
      "rowLimit": 10000
     },
     "inputWidgets": {},
     "nuid": "4dcb9baa-00e5-4913-a368-2e6678bf860a",
     "showTitle": false,
     "tableResultSettingsMap": {},
     "title": ""
    }
   },
   "outputs": [],
   "source": [
    "DF_DISPERSION_01 = DF_DISPERSION_01.select(*columns_to_select)\n",
    "\n",
    "if debug:\n",
    "    display(DF_DISPERSION_01)"
   ]
  },
  {
   "cell_type": "markdown",
   "metadata": {
    "application/vnd.databricks.v1+cell": {
     "cellMetadata": {
      "byteLimit": 2048000,
      "rowLimit": 10000
     },
     "inputWidgets": {},
     "nuid": "0d758eb4-734d-4ec8-a487-52f08c17acd4",
     "showTitle": false,
     "tableResultSettingsMap": {},
     "title": ""
    }
   },
   "source": [
    "### Guardamos `DF_DISPERSION_01` en una vista global, llamaremos a la vista `temp_dispersion_mov_01_{global_params['sr_folio']}`"
   ]
  },
  {
   "cell_type": "code",
   "execution_count": 0,
   "metadata": {
    "application/vnd.databricks.v1+cell": {
     "cellMetadata": {
      "byteLimit": 2048000,
      "rowLimit": 10000
     },
     "inputWidgets": {},
     "nuid": "0039bc70-e0a1-4ccd-996b-d65bdcd0b169",
     "showTitle": false,
     "tableResultSettingsMap": {},
     "title": ""
    }
   },
   "outputs": [],
   "source": [
    "import time\n",
    "from pyspark.sql.utils import AnalysisException\n",
    "\n",
    "# Configura los parámetros de reintento\n",
    "MAX_RETRIES = 5\n",
    "DELAY_SECONDS = 10\n",
    "\n",
    "# Construcción del nombre de la vista/tabla\n",
    "view_name = f\"temp_dispersion_mov_01_{global_params['SR_FOLIO']}\"\n",
    "table_path = f\"{global_confs['catalog_name']}.{global_confs['schema_name']}.{view_name}\"\n",
    "\n",
    "# Función para ejecutar con reintentos\n",
    "def save_table_with_retries():\n",
    "    for attempt in range(MAX_RETRIES):\n",
    "        try:\n",
    "            # Intenta eliminar la tabla si existe\n",
    "            print(f\"Intento {attempt + 1}/{MAX_RETRIES}: Eliminando tabla si existe\")\n",
    "            spark.sql(f\"DROP TABLE IF EXISTS {table_path}\")\n",
    "            \n",
    "            # Guarda el DataFrame como tabla\n",
    "            print(f\"Intento {attempt + 1}/{MAX_RETRIES}: Guardando la tabla\")\n",
    "            DF_DISPERSION_01.write.format(\"delta\").mode(\"overwrite\").saveAsTable(table_path)\n",
    "            \n",
    "            # Si todo sale bien, rompe el bucle\n",
    "            print(\"Tabla guardada exitosamente.\")\n",
    "            break\n",
    "        except AnalysisException as e:\n",
    "            print(f\"Error de análisis en el intento {attempt + 1}: {e}\")\n",
    "        except Exception as e:\n",
    "            print(f\"Error inesperado en el intento {attempt + 1}: {e}\")\n",
    "        \n",
    "        # Si no es el último intento, espera antes de reintentar\n",
    "        if attempt < MAX_RETRIES - 1:\n",
    "            print(f\"Esperando {DELAY_SECONDS} segundos antes de reintentar...\")\n",
    "            time.sleep(DELAY_SECONDS)\n",
    "    else:\n",
    "        # Si el bucle termina sin éxito, lanza una excepción\n",
    "        raise RuntimeError(\"No se pudo guardar la tabla después de múltiples reintentos.\")\n",
    "\n",
    "# Ejecuta la función\n",
    "save_table_with_retries()"
   ]
  },
  {
   "cell_type": "code",
   "execution_count": 0,
   "metadata": {
    "application/vnd.databricks.v1+cell": {
     "cellMetadata": {
      "byteLimit": 2048000,
      "rowLimit": 10000
     },
     "inputWidgets": {},
     "nuid": "27bea07a-65e8-4c16-a4d1-3f6f6d518cdd",
     "showTitle": false,
     "tableResultSettingsMap": {},
     "title": ""
    }
   },
   "outputs": [],
   "source": [
    "from pyspark.sql import DataFrame\n",
    "\n",
    "# Clear cache\n",
    "spark.catalog.clearCache()\n",
    "\n",
    "# Unpersist and delete all DataFrames\n",
    "for df_name in list(globals()):\n",
    "    if isinstance(globals()[df_name], DataFrame):\n",
    "        globals()[df_name].unpersist()\n",
    "        del globals()[df_name]"
   ]
  },
  {
   "cell_type": "code",
   "execution_count": 0,
   "metadata": {
    "application/vnd.databricks.v1+cell": {
     "cellMetadata": {},
     "inputWidgets": {},
     "nuid": "c7f0a30d-66c9-4071-bdd5-a8c52c70de2c",
     "showTitle": false,
     "tableResultSettingsMap": {},
     "title": ""
    }
   },
   "outputs": [],
   "source": [
    "# Liberar la caché del DataFrame si se usó cache\n",
    "DF_DISPERSION_01.unpersist()\n",
    "\n",
    "# Eliminar DataFrames para liberar memoria\n",
    "del DF_DISPERSION_01\n",
    "\n",
    "# Recolector de basura para liberar recursos inmediatamente\n",
    "import gc\n",
    "gc.collect()"
   ]
  }
 ],
 "metadata": {
  "application/vnd.databricks.v1+notebook": {
   "dashboards": [],
   "environmentMetadata": null,
   "language": "python",
   "notebookMetadata": {
    "pythonIndentUnit": 4,
    "widgetLayout": []
   },
   "notebookName": "NB_OPER_PANCIN_MOV_0010_EXT_CARGO",
   "widgets": {
    "cx_cre_esquema": {
     "currentValue": "CIERREN_ETL",
     "nuid": "4ae6e78c-66f7-4f3d-a5f2-da71c0f88a9e",
     "typedWidgetInfo": {
      "autoCreated": false,
      "defaultValue": "CIERREN_ETL",
      "label": null,
      "name": "cx_cre_esquema",
      "options": {
       "widgetDisplayType": "Text",
       "validationRegex": null
      },
      "parameterDataType": "String"
     },
     "widgetInfo": {
      "widgetType": "text",
      "defaultValue": "CIERREN_ETL",
      "label": null,
      "name": "cx_cre_esquema",
      "options": {
       "widgetType": "text",
       "autoCreated": null,
       "validationRegex": null
      }
     }
    },
    "sr_etapa": {
     "currentValue": "1",
     "nuid": "7554e010-2768-4afc-a047-bf2e6ac7ce0d",
     "typedWidgetInfo": {
      "autoCreated": false,
      "defaultValue": "",
      "label": null,
      "name": "sr_etapa",
      "options": {
       "widgetDisplayType": "Text",
       "validationRegex": null
      },
      "parameterDataType": "String"
     },
     "widgetInfo": {
      "widgetType": "text",
      "defaultValue": "",
      "label": null,
      "name": "sr_etapa",
      "options": {
       "widgetType": "text",
       "autoCreated": null,
       "validationRegex": null
      }
     }
    },
    "sr_factor": {
     "currentValue": "1",
     "nuid": "b9779bd1-0db9-4392-ab55-e266c168037f",
     "typedWidgetInfo": {
      "autoCreated": false,
      "defaultValue": "",
      "label": null,
      "name": "sr_factor",
      "options": {
       "widgetDisplayType": "Text",
       "validationRegex": null
      },
      "parameterDataType": "String"
     },
     "widgetInfo": {
      "widgetType": "text",
      "defaultValue": "",
      "label": null,
      "name": "sr_factor",
      "options": {
       "widgetType": "text",
       "autoCreated": null,
       "validationRegex": null
      }
     }
    },
    "sr_fec_acc": {
     "currentValue": "2024-09-20241201",
     "nuid": "d41caba5-e142-4dd5-a5b5-05ea5944fbee",
     "typedWidgetInfo": {
      "autoCreated": false,
      "defaultValue": "",
      "label": null,
      "name": "sr_fec_acc",
      "options": {
       "widgetDisplayType": "Text",
       "validationRegex": null
      },
      "parameterDataType": "String"
     },
     "widgetInfo": {
      "widgetType": "text",
      "defaultValue": "",
      "label": null,
      "name": "sr_fec_acc",
      "options": {
       "widgetType": "text",
       "autoCreated": null,
       "validationRegex": null
      }
     }
    },
    "sr_fecha_acc": {
     "currentValue": "20241201",
     "nuid": "b5f30113-a0f7-4d22-b7a1-7af3618b03e3",
     "typedWidgetInfo": {
      "autoCreated": false,
      "defaultValue": "",
      "label": null,
      "name": "sr_fecha_acc",
      "options": {
       "widgetDisplayType": "Text",
       "validationRegex": null
      },
      "parameterDataType": "String"
     },
     "widgetInfo": {
      "widgetType": "text",
      "defaultValue": "",
      "label": null,
      "name": "sr_fecha_acc",
      "options": {
       "widgetType": "text",
       "autoCreated": null,
       "validationRegex": null
      }
     }
    },
    "sr_fecha_liq": {
     "currentValue": "20241201",
     "nuid": "9adc3c63-5c5a-443a-9a90-488030f39abf",
     "typedWidgetInfo": {
      "autoCreated": false,
      "defaultValue": "",
      "label": null,
      "name": "sr_fecha_liq",
      "options": {
       "widgetDisplayType": "Text",
       "validationRegex": null
      },
      "parameterDataType": "String"
     },
     "widgetInfo": {
      "widgetType": "text",
      "defaultValue": "",
      "label": null,
      "name": "sr_fecha_liq",
      "options": {
       "widgetType": "text",
       "autoCreated": null,
       "validationRegex": null
      }
     }
    },
    "sr_folio": {
     "currentValue": "202411161249589220",
     "nuid": "ee8c5f8c-0161-4182-9b96-9fdd28adb03f",
     "typedWidgetInfo": {
      "autoCreated": false,
      "defaultValue": "",
      "label": null,
      "name": "sr_folio",
      "options": {
       "widgetDisplayType": "Text",
       "validationRegex": null
      },
      "parameterDataType": "String"
     },
     "widgetInfo": {
      "widgetType": "text",
      "defaultValue": "",
      "label": null,
      "name": "sr_folio",
      "options": {
       "widgetType": "text",
       "autoCreated": null,
       "validationRegex": null
      }
     }
    },
    "sr_folio_rel": {
     "currentValue": "null",
     "nuid": "91267069-d82a-4722-a3b0-9b8fb7f259a0",
     "typedWidgetInfo": {
      "autoCreated": false,
      "defaultValue": "",
      "label": null,
      "name": "sr_folio_rel",
      "options": {
       "widgetDisplayType": "Text",
       "validationRegex": null
      },
      "parameterDataType": "String"
     },
     "widgetInfo": {
      "widgetType": "text",
      "defaultValue": "",
      "label": null,
      "name": "sr_folio_rel",
      "options": {
       "widgetType": "text",
       "autoCreated": null,
       "validationRegex": null
      }
     }
    },
    "sr_id_snapshot": {
     "currentValue": "1",
     "nuid": "71434569-2950-486d-9695-b82f1f8c3d9c",
     "typedWidgetInfo": {
      "autoCreated": false,
      "defaultValue": "",
      "label": null,
      "name": "sr_id_snapshot",
      "options": {
       "widgetDisplayType": "Text",
       "validationRegex": null
      },
      "parameterDataType": "String"
     },
     "widgetInfo": {
      "widgetType": "text",
      "defaultValue": "",
      "label": null,
      "name": "sr_id_snapshot",
      "options": {
       "widgetType": "text",
       "autoCreated": null,
       "validationRegex": null
      }
     }
    },
    "sr_instancia_proceso": {
     "currentValue": "1",
     "nuid": "06874e20-f767-4847-aba6-6dedab88ea6c",
     "typedWidgetInfo": {
      "autoCreated": false,
      "defaultValue": "",
      "label": null,
      "name": "sr_instancia_proceso",
      "options": {
       "widgetDisplayType": "Text",
       "validationRegex": null
      },
      "parameterDataType": "String"
     },
     "widgetInfo": {
      "widgetType": "text",
      "defaultValue": "",
      "label": null,
      "name": "sr_instancia_proceso",
      "options": {
       "widgetType": "text",
       "autoCreated": null,
       "validationRegex": null
      }
     }
    },
    "sr_origen_arc": {
     "currentValue": "1",
     "nuid": "3742da06-74c4-4b3d-8915-2f42d9ea1617",
     "typedWidgetInfo": {
      "autoCreated": false,
      "defaultValue": "",
      "label": null,
      "name": "sr_origen_arc",
      "options": {
       "widgetDisplayType": "Text",
       "validationRegex": null
      },
      "parameterDataType": "String"
     },
     "widgetInfo": {
      "widgetType": "text",
      "defaultValue": "",
      "label": null,
      "name": "sr_origen_arc",
      "options": {
       "widgetType": "text",
       "autoCreated": null,
       "validationRegex": null
      }
     }
    },
    "sr_proceso": {
     "currentValue": "7",
     "nuid": "ef852158-3b4d-497d-a856-c161f940f610",
     "typedWidgetInfo": {
      "autoCreated": false,
      "defaultValue": "",
      "label": null,
      "name": "sr_proceso",
      "options": {
       "widgetDisplayType": "Text",
       "validationRegex": null
      },
      "parameterDataType": "String"
     },
     "widgetInfo": {
      "widgetType": "text",
      "defaultValue": "",
      "label": null,
      "name": "sr_proceso",
      "options": {
       "widgetType": "text",
       "autoCreated": null,
       "validationRegex": null
      }
     }
    },
    "sr_reproceso": {
     "currentValue": "1",
     "nuid": "5df58afc-4275-482e-aa82-75b70608da74",
     "typedWidgetInfo": {
      "autoCreated": false,
      "defaultValue": "",
      "label": null,
      "name": "sr_reproceso",
      "options": {
       "widgetDisplayType": "Text",
       "validationRegex": null
      },
      "parameterDataType": "String"
     },
     "widgetInfo": {
      "widgetType": "text",
      "defaultValue": "",
      "label": null,
      "name": "sr_reproceso",
      "options": {
       "widgetType": "text",
       "autoCreated": null,
       "validationRegex": null
      }
     }
    },
    "sr_subetapa": {
     "currentValue": "273",
     "nuid": "3b1dcd3a-fac1-42d0-a0d5-7d6155f8cb5f",
     "typedWidgetInfo": {
      "autoCreated": false,
      "defaultValue": "",
      "label": null,
      "name": "sr_subetapa",
      "options": {
       "widgetDisplayType": "Text",
       "validationRegex": null
      },
      "parameterDataType": "String"
     },
     "widgetInfo": {
      "widgetType": "text",
      "defaultValue": "",
      "label": null,
      "name": "sr_subetapa",
      "options": {
       "widgetType": "text",
       "autoCreated": null,
       "validationRegex": null
      }
     }
    },
    "sr_subproceso": {
     "currentValue": "9",
     "nuid": "0df66919-f128-443e-9c9f-7b9f72b00a5d",
     "typedWidgetInfo": {
      "autoCreated": false,
      "defaultValue": "",
      "label": null,
      "name": "sr_subproceso",
      "options": {
       "widgetDisplayType": "Text",
       "validationRegex": null
      },
      "parameterDataType": "String"
     },
     "widgetInfo": {
      "widgetType": "text",
      "defaultValue": "",
      "label": null,
      "name": "sr_subproceso",
      "options": {
       "widgetType": "text",
       "autoCreated": null,
       "validationRegex": null
      }
     }
    },
    "sr_tipo_mov": {
     "currentValue": "1",
     "nuid": "67fe277c-89f1-4bae-a55d-468dd0a19369",
     "typedWidgetInfo": {
      "autoCreated": false,
      "defaultValue": "",
      "label": null,
      "name": "sr_tipo_mov",
      "options": {
       "widgetDisplayType": "Text",
       "validationRegex": null
      },
      "parameterDataType": "String"
     },
     "widgetInfo": {
      "widgetType": "text",
      "defaultValue": "",
      "label": null,
      "name": "sr_tipo_mov",
      "options": {
       "widgetType": "text",
       "autoCreated": null,
       "validationRegex": null
      }
     }
    },
    "sr_usuario": {
     "currentValue": "1",
     "nuid": "b64498e0-5eb1-4a40-b881-e7757f1acc6e",
     "typedWidgetInfo": {
      "autoCreated": false,
      "defaultValue": "",
      "label": null,
      "name": "sr_usuario",
      "options": {
       "widgetDisplayType": "Text",
       "validationRegex": null
      },
      "parameterDataType": "String"
     },
     "widgetInfo": {
      "widgetType": "text",
      "defaultValue": "",
      "label": null,
      "name": "sr_usuario",
      "options": {
       "widgetType": "text",
       "autoCreated": null,
       "validationRegex": null
      }
     }
    },
    "tl_cre_dispersion": {
     "currentValue": "TTSISGRAL_ETL_DISPERSION ",
     "nuid": "d4d10eb4-8733-4c97-97dc-e751d5c5f39a",
     "typedWidgetInfo": {
      "autoCreated": false,
      "defaultValue": "TTSISGRAL_ETL_DISPERSION",
      "label": null,
      "name": "tl_cre_dispersion",
      "options": {
       "widgetDisplayType": "Text",
       "validationRegex": null
      },
      "parameterDataType": "String"
     },
     "widgetInfo": {
      "widgetType": "text",
      "defaultValue": "TTSISGRAL_ETL_DISPERSION",
      "label": null,
      "name": "tl_cre_dispersion",
      "options": {
       "widgetType": "text",
       "autoCreated": null,
       "validationRegex": null
      }
     }
    }
   }
  },
  "kernelspec": {
   "display_name": ".env",
   "language": "python",
   "name": "python3"
  },
  "language_info": {
   "name": "python"
  }
 },
 "nbformat": 4,
 "nbformat_minor": 0
}
